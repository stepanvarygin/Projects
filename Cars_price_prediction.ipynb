{
 "cells": [
  {
   "cell_type": "markdown",
   "id": "08b8e494",
   "metadata": {},
   "source": [
    "# GSOM 23SM1 ML Hometask 1"
   ]
  },
  {
   "cell_type": "code",
   "execution_count": 2,
   "id": "6be1cc76",
   "metadata": {},
   "outputs": [],
   "source": [
    "import numpy as np\n",
    "import pandas as pd\n",
    "import matplotlib.pyplot as plt\n",
    "import seaborn as sns\n",
    "\n",
    "from scipy.stats import uniform as sp_randFloat\n",
    "from scipy.stats import randint as sp_randInt\n",
    "\n",
    "sns.set_palette('muted') \n",
    "sns.set_color_codes('muted')\n",
    "sns.set_style('white') \n",
    "\n",
    "import warnings\n",
    "warnings.filterwarnings('ignore')"
   ]
  },
  {
   "cell_type": "code",
   "execution_count": 3,
   "id": "87098605",
   "metadata": {},
   "outputs": [],
   "source": [
    "%config InlineBackend.figure_format = 'retina'"
   ]
  },
  {
   "cell_type": "code",
   "execution_count": 4,
   "id": "f54b22df",
   "metadata": {},
   "outputs": [
    {
     "name": "stdout",
     "output_type": "stream",
     "text": [
      "Requirement already satisfied: xgboost in /Users/steph/opt/anaconda3/lib/python3.9/site-packages (1.7.5)\n",
      "Requirement already satisfied: scipy in /Users/steph/opt/anaconda3/lib/python3.9/site-packages (from xgboost) (1.7.3)\n",
      "Requirement already satisfied: numpy in /Users/steph/opt/anaconda3/lib/python3.9/site-packages (from xgboost) (1.21.5)\n"
     ]
    }
   ],
   "source": [
    "!pip install xgboost"
   ]
  },
  {
   "cell_type": "code",
   "execution_count": 4,
   "id": "896064e1",
   "metadata": {},
   "outputs": [
    {
     "name": "stdout",
     "output_type": "stream",
     "text": [
      "Requirement already satisfied: lightgbm in /Users/steph/opt/anaconda3/lib/python3.9/site-packages (3.3.5)\n",
      "Requirement already satisfied: scipy in /Users/steph/opt/anaconda3/lib/python3.9/site-packages (from lightgbm) (1.7.3)\n",
      "Requirement already satisfied: scikit-learn!=0.22.0 in /Users/steph/opt/anaconda3/lib/python3.9/site-packages (from lightgbm) (1.2.2)\n",
      "Requirement already satisfied: numpy in /Users/steph/opt/anaconda3/lib/python3.9/site-packages (from lightgbm) (1.21.5)\n",
      "Requirement already satisfied: wheel in /Users/steph/opt/anaconda3/lib/python3.9/site-packages (from lightgbm) (0.37.1)\n",
      "Requirement already satisfied: threadpoolctl>=2.0.0 in /Users/steph/opt/anaconda3/lib/python3.9/site-packages (from scikit-learn!=0.22.0->lightgbm) (2.2.0)\n",
      "Requirement already satisfied: joblib>=1.1.1 in /Users/steph/opt/anaconda3/lib/python3.9/site-packages (from scikit-learn!=0.22.0->lightgbm) (1.2.0)\n"
     ]
    }
   ],
   "source": [
    "!pip install lightgbm"
   ]
  },
  {
   "cell_type": "code",
   "execution_count": 5,
   "id": "1a506569",
   "metadata": {},
   "outputs": [],
   "source": [
    "from sklearn.model_selection import train_test_split\n",
    "from sklearn.model_selection import ParameterGrid\n",
    "\n",
    "from sklearn.linear_model import LinearRegression\n",
    "from sklearn.linear_model import ElasticNet\n",
    "\n",
    "from sklearn.ensemble import GradientBoostingRegressor\n",
    "from sklearn.ensemble import RandomForestRegressor\n",
    "from sklearn.ensemble import GradientBoostingClassifier\n",
    "\n",
    "from sklearn_pandas import DataFrameMapper\n",
    "\n",
    "from sklearn.impute import SimpleImputer\n",
    "\n",
    "from sklearn.preprocessing import StandardScaler\n",
    "from sklearn.preprocessing import OneHotEncoder\n",
    "\n",
    "from sklearn.pipeline import make_pipeline, Pipeline\n",
    "\n",
    "from sklearn.metrics import mean_squared_error\n",
    "from sklearn.metrics import mean_absolute_percentage_error\n",
    "from sklearn.metrics import PredictionErrorDisplay\n",
    "\n",
    "from sklearn.model_selection import cross_val_score, GridSearchCV, KFold, RandomizedSearchCV, train_test_split\n",
    "\n",
    "import xgboost as xgb"
   ]
  },
  {
   "cell_type": "markdown",
   "id": "8500cc33",
   "metadata": {},
   "source": [
    "# 0."
   ]
  },
  {
   "cell_type": "code",
   "execution_count": 6,
   "id": "84b5a0e0",
   "metadata": {},
   "outputs": [
    {
     "data": {
      "text/html": [
       "<div>\n",
       "<style scoped>\n",
       "    .dataframe tbody tr th:only-of-type {\n",
       "        vertical-align: middle;\n",
       "    }\n",
       "\n",
       "    .dataframe tbody tr th {\n",
       "        vertical-align: top;\n",
       "    }\n",
       "\n",
       "    .dataframe thead th {\n",
       "        text-align: right;\n",
       "    }\n",
       "</style>\n",
       "<table border=\"1\" class=\"dataframe\">\n",
       "  <thead>\n",
       "    <tr style=\"text-align: right;\">\n",
       "      <th></th>\n",
       "      <th>id</th>\n",
       "      <th>brand</th>\n",
       "      <th>model</th>\n",
       "      <th>year</th>\n",
       "      <th>transmission</th>\n",
       "      <th>mileage</th>\n",
       "      <th>fuelType</th>\n",
       "      <th>tax</th>\n",
       "      <th>mpg</th>\n",
       "      <th>engineSize</th>\n",
       "      <th>tax(£)</th>\n",
       "      <th>price</th>\n",
       "    </tr>\n",
       "  </thead>\n",
       "  <tbody>\n",
       "    <tr>\n",
       "      <th>51944</th>\n",
       "      <td>51944</td>\n",
       "      <td>toyota</td>\n",
       "      <td>Aygo</td>\n",
       "      <td>2017.0</td>\n",
       "      <td>Manual</td>\n",
       "      <td>14513 km</td>\n",
       "      <td>Other</td>\n",
       "      <td>0.0</td>\n",
       "      <td>68.9</td>\n",
       "      <td>1.0</td>\n",
       "      <td>NaN</td>\n",
       "      <td>8490</td>\n",
       "    </tr>\n",
       "    <tr>\n",
       "      <th>8276</th>\n",
       "      <td>8276</td>\n",
       "      <td>Mercedes-Benz</td>\n",
       "      <td>GLC Class</td>\n",
       "      <td>2018.0</td>\n",
       "      <td>Automatic</td>\n",
       "      <td>25046 km</td>\n",
       "      <td>Diesel</td>\n",
       "      <td>145.0</td>\n",
       "      <td>56.5</td>\n",
       "      <td>2.1</td>\n",
       "      <td>NaN</td>\n",
       "      <td>24750</td>\n",
       "    </tr>\n",
       "    <tr>\n",
       "      <th>63594</th>\n",
       "      <td>63594</td>\n",
       "      <td>bmw</td>\n",
       "      <td>1 Series</td>\n",
       "      <td>2016.0</td>\n",
       "      <td>Manual</td>\n",
       "      <td>45719 km</td>\n",
       "      <td>Diesel</td>\n",
       "      <td>0.0</td>\n",
       "      <td>83.1</td>\n",
       "      <td>1.5</td>\n",
       "      <td>NaN</td>\n",
       "      <td>9500</td>\n",
       "    </tr>\n",
       "    <tr>\n",
       "      <th>30649</th>\n",
       "      <td>30649</td>\n",
       "      <td>toyota</td>\n",
       "      <td>RAV4</td>\n",
       "      <td>2017.0</td>\n",
       "      <td>Automatic</td>\n",
       "      <td>10028 km</td>\n",
       "      <td>Petrol</td>\n",
       "      <td>145.0</td>\n",
       "      <td>43.5</td>\n",
       "      <td>2.0</td>\n",
       "      <td>NaN</td>\n",
       "      <td>19998</td>\n",
       "    </tr>\n",
       "    <tr>\n",
       "      <th>75061</th>\n",
       "      <td>75061</td>\n",
       "      <td>audi</td>\n",
       "      <td>TT</td>\n",
       "      <td>2016.0</td>\n",
       "      <td>Semi-Auto</td>\n",
       "      <td>16000 km</td>\n",
       "      <td>Petrol</td>\n",
       "      <td>300.0</td>\n",
       "      <td>34.0</td>\n",
       "      <td>2.5</td>\n",
       "      <td>NaN</td>\n",
       "      <td>39995</td>\n",
       "    </tr>\n",
       "  </tbody>\n",
       "</table>\n",
       "</div>"
      ],
      "text/plain": [
       "          id          brand       model    year transmission   mileage  \\\n",
       "51944  51944         toyota        Aygo  2017.0       Manual  14513 km   \n",
       "8276    8276  Mercedes-Benz   GLC Class  2018.0    Automatic  25046 km   \n",
       "63594  63594            bmw    1 Series  2016.0       Manual  45719 km   \n",
       "30649  30649         toyota        RAV4  2017.0    Automatic  10028 km   \n",
       "75061  75061           audi          TT  2016.0    Semi-Auto  16000 km   \n",
       "\n",
       "      fuelType    tax   mpg  engineSize  tax(£)  price  \n",
       "51944    Other    0.0  68.9         1.0     NaN   8490  \n",
       "8276    Diesel  145.0  56.5         2.1     NaN  24750  \n",
       "63594   Diesel    0.0  83.1         1.5     NaN   9500  \n",
       "30649   Petrol  145.0  43.5         2.0     NaN  19998  \n",
       "75061   Petrol  300.0  34.0         2.5     NaN  39995  "
      ]
     },
     "execution_count": 6,
     "metadata": {},
     "output_type": "execute_result"
    }
   ],
   "source": [
    "data = pd.read_csv('car_train.csv')\n",
    "data.sample(5)"
   ]
  },
  {
   "cell_type": "code",
   "execution_count": 5,
   "id": "e397e5f7",
   "metadata": {},
   "outputs": [
    {
     "name": "stdout",
     "output_type": "stream",
     "text": [
      "2\n",
      "(98948, 12)\n",
      "1187376\n"
     ]
    }
   ],
   "source": [
    "print(data.ndim)\n",
    "print(data.shape)\n",
    "print(data.size)"
   ]
  },
  {
   "cell_type": "code",
   "execution_count": 6,
   "id": "a4ee02e8",
   "metadata": {},
   "outputs": [
    {
     "name": "stdout",
     "output_type": "stream",
     "text": [
      "<class 'pandas.core.frame.DataFrame'>\n",
      "RangeIndex: 98948 entries, 0 to 98947\n",
      "Data columns (total 12 columns):\n",
      " #   Column        Non-Null Count  Dtype  \n",
      "---  ------        --------------  -----  \n",
      " 0   id            98948 non-null  int64  \n",
      " 1   brand         98948 non-null  object \n",
      " 2   model         98948 non-null  object \n",
      " 3   year          98939 non-null  float64\n",
      " 4   transmission  98948 non-null  object \n",
      " 5   mileage       98948 non-null  object \n",
      " 6   fuelType      98948 non-null  object \n",
      " 7   tax           85970 non-null  float64\n",
      " 8   mpg           90426 non-null  float64\n",
      " 9   engineSize    98948 non-null  float64\n",
      " 10  tax(£)        4456 non-null   float64\n",
      " 11  price         98948 non-null  int64  \n",
      "dtypes: float64(5), int64(2), object(5)\n",
      "memory usage: 9.1+ MB\n"
     ]
    }
   ],
   "source": [
    "data.info()"
   ]
  },
  {
   "cell_type": "code",
   "execution_count": 7,
   "id": "4f34c0ee",
   "metadata": {},
   "outputs": [
    {
     "data": {
      "text/html": [
       "<div>\n",
       "<style scoped>\n",
       "    .dataframe tbody tr th:only-of-type {\n",
       "        vertical-align: middle;\n",
       "    }\n",
       "\n",
       "    .dataframe tbody tr th {\n",
       "        vertical-align: top;\n",
       "    }\n",
       "\n",
       "    .dataframe thead th {\n",
       "        text-align: right;\n",
       "    }\n",
       "</style>\n",
       "<table border=\"1\" class=\"dataframe\">\n",
       "  <thead>\n",
       "    <tr style=\"text-align: right;\">\n",
       "      <th></th>\n",
       "      <th>id</th>\n",
       "      <th>year</th>\n",
       "      <th>tax</th>\n",
       "      <th>mpg</th>\n",
       "      <th>engineSize</th>\n",
       "      <th>tax(£)</th>\n",
       "      <th>price</th>\n",
       "    </tr>\n",
       "  </thead>\n",
       "  <tbody>\n",
       "    <tr>\n",
       "      <th>count</th>\n",
       "      <td>98948.000000</td>\n",
       "      <td>98939.000000</td>\n",
       "      <td>85970.000000</td>\n",
       "      <td>90426.000000</td>\n",
       "      <td>98948.000000</td>\n",
       "      <td>4456.000000</td>\n",
       "      <td>98948.000000</td>\n",
       "    </tr>\n",
       "    <tr>\n",
       "      <th>mean</th>\n",
       "      <td>49473.500000</td>\n",
       "      <td>2017.095331</td>\n",
       "      <td>120.248924</td>\n",
       "      <td>55.171346</td>\n",
       "      <td>1.661181</td>\n",
       "      <td>120.828097</td>\n",
       "      <td>16882.304453</td>\n",
       "    </tr>\n",
       "    <tr>\n",
       "      <th>std</th>\n",
       "      <td>28563.971555</td>\n",
       "      <td>2.138149</td>\n",
       "      <td>63.467639</td>\n",
       "      <td>16.098416</td>\n",
       "      <td>0.556509</td>\n",
       "      <td>58.352896</td>\n",
       "      <td>9744.497982</td>\n",
       "    </tr>\n",
       "    <tr>\n",
       "      <th>min</th>\n",
       "      <td>0.000000</td>\n",
       "      <td>1970.000000</td>\n",
       "      <td>0.000000</td>\n",
       "      <td>0.300000</td>\n",
       "      <td>0.000000</td>\n",
       "      <td>0.000000</td>\n",
       "      <td>-695.000000</td>\n",
       "    </tr>\n",
       "    <tr>\n",
       "      <th>25%</th>\n",
       "      <td>24736.750000</td>\n",
       "      <td>2016.000000</td>\n",
       "      <td>125.000000</td>\n",
       "      <td>47.100000</td>\n",
       "      <td>1.200000</td>\n",
       "      <td>125.000000</td>\n",
       "      <td>10200.000000</td>\n",
       "    </tr>\n",
       "    <tr>\n",
       "      <th>50%</th>\n",
       "      <td>49473.500000</td>\n",
       "      <td>2017.000000</td>\n",
       "      <td>145.000000</td>\n",
       "      <td>54.300000</td>\n",
       "      <td>1.600000</td>\n",
       "      <td>145.000000</td>\n",
       "      <td>14691.000000</td>\n",
       "    </tr>\n",
       "    <tr>\n",
       "      <th>75%</th>\n",
       "      <td>74210.250000</td>\n",
       "      <td>2019.000000</td>\n",
       "      <td>145.000000</td>\n",
       "      <td>62.800000</td>\n",
       "      <td>2.000000</td>\n",
       "      <td>145.000000</td>\n",
       "      <td>20899.000000</td>\n",
       "    </tr>\n",
       "    <tr>\n",
       "      <th>max</th>\n",
       "      <td>98947.000000</td>\n",
       "      <td>2060.000000</td>\n",
       "      <td>580.000000</td>\n",
       "      <td>470.800000</td>\n",
       "      <td>6.600000</td>\n",
       "      <td>555.000000</td>\n",
       "      <td>159999.000000</td>\n",
       "    </tr>\n",
       "  </tbody>\n",
       "</table>\n",
       "</div>"
      ],
      "text/plain": [
       "                 id          year           tax           mpg    engineSize  \\\n",
       "count  98948.000000  98939.000000  85970.000000  90426.000000  98948.000000   \n",
       "mean   49473.500000   2017.095331    120.248924     55.171346      1.661181   \n",
       "std    28563.971555      2.138149     63.467639     16.098416      0.556509   \n",
       "min        0.000000   1970.000000      0.000000      0.300000      0.000000   \n",
       "25%    24736.750000   2016.000000    125.000000     47.100000      1.200000   \n",
       "50%    49473.500000   2017.000000    145.000000     54.300000      1.600000   \n",
       "75%    74210.250000   2019.000000    145.000000     62.800000      2.000000   \n",
       "max    98947.000000   2060.000000    580.000000    470.800000      6.600000   \n",
       "\n",
       "            tax(£)          price  \n",
       "count  4456.000000   98948.000000  \n",
       "mean    120.828097   16882.304453  \n",
       "std      58.352896    9744.497982  \n",
       "min       0.000000    -695.000000  \n",
       "25%     125.000000   10200.000000  \n",
       "50%     145.000000   14691.000000  \n",
       "75%     145.000000   20899.000000  \n",
       "max     555.000000  159999.000000  "
      ]
     },
     "execution_count": 7,
     "metadata": {},
     "output_type": "execute_result"
    }
   ],
   "source": [
    "data.describe()"
   ]
  },
  {
   "cell_type": "markdown",
   "id": "9ade22d3",
   "metadata": {},
   "source": [
    "# 1. Values type & Missing values"
   ]
  },
  {
   "cell_type": "markdown",
   "id": "4bbe3318",
   "metadata": {},
   "source": [
    "## 1.1. Values type"
   ]
  },
  {
   "cell_type": "markdown",
   "id": "ddd07fcd",
   "metadata": {},
   "source": [
    "### `mileage`"
   ]
  },
  {
   "cell_type": "code",
   "execution_count": 7,
   "id": "cf91088c",
   "metadata": {},
   "outputs": [],
   "source": [
    "# getting rid of 'km' in mileage\n",
    "data.mileage = data.mileage.str.replace(\" km\", '').astype(int)"
   ]
  },
  {
   "cell_type": "markdown",
   "id": "a127ee9a",
   "metadata": {},
   "source": [
    "### `model`"
   ]
  },
  {
   "cell_type": "code",
   "execution_count": 9,
   "id": "cb4dda84",
   "metadata": {},
   "outputs": [
    {
     "data": {
      "text/plain": [
       "Index([' Focus', ' C Class', ' Fiesta', ' Golf', ' Corsa', ' Polo', ' Astra',\n",
       "       ' A Class', ' 3 Series', ' Kuga',\n",
       "       ...\n",
       "       ' A2', '200', ' Transit Tourneo', ' RS7', '180', ' Ranger', ' Amica',\n",
       "       '220', ' Accent', ' Escort'],\n",
       "      dtype='object', length=194)"
      ]
     },
     "execution_count": 9,
     "metadata": {},
     "output_type": "execute_result"
    }
   ],
   "source": [
    "data.model.value_counts().index"
   ]
  },
  {
   "cell_type": "code",
   "execution_count": 8,
   "id": "df10b356",
   "metadata": {},
   "outputs": [],
   "source": [
    "# getting rid of space in model\n",
    "data.model = data.model.str.strip()"
   ]
  },
  {
   "cell_type": "markdown",
   "id": "e9b41ad6",
   "metadata": {},
   "source": [
    "### `year`"
   ]
  },
  {
   "cell_type": "code",
   "execution_count": 9,
   "id": "968cabc2",
   "metadata": {},
   "outputs": [],
   "source": [
    "# putting a correct year\n",
    "data.loc[data.year == 2060,'year'] = 2006"
   ]
  },
  {
   "cell_type": "code",
   "execution_count": 10,
   "id": "60bdf9d4",
   "metadata": {},
   "outputs": [],
   "source": [
    "data.year = data[~data.year.isna()].year.astype(int)"
   ]
  },
  {
   "cell_type": "code",
   "execution_count": 11,
   "id": "d2eb182d",
   "metadata": {},
   "outputs": [
    {
     "name": "stdout",
     "output_type": "stream",
     "text": [
      "<class 'pandas.core.frame.DataFrame'>\n",
      "RangeIndex: 98948 entries, 0 to 98947\n",
      "Data columns (total 12 columns):\n",
      " #   Column        Non-Null Count  Dtype  \n",
      "---  ------        --------------  -----  \n",
      " 0   id            98948 non-null  int64  \n",
      " 1   brand         98948 non-null  object \n",
      " 2   model         98948 non-null  object \n",
      " 3   year          98939 non-null  float64\n",
      " 4   transmission  98948 non-null  object \n",
      " 5   mileage       98948 non-null  int64  \n",
      " 6   fuelType      98948 non-null  object \n",
      " 7   tax           85970 non-null  float64\n",
      " 8   mpg           90426 non-null  float64\n",
      " 9   engineSize    98948 non-null  float64\n",
      " 10  tax(£)        4456 non-null   float64\n",
      " 11  price         98948 non-null  int64  \n",
      "dtypes: float64(5), int64(3), object(4)\n",
      "memory usage: 9.1+ MB\n"
     ]
    }
   ],
   "source": [
    "data.info()"
   ]
  },
  {
   "cell_type": "markdown",
   "id": "2492b495",
   "metadata": {},
   "source": [
    "### `mpg`"
   ]
  },
  {
   "cell_type": "code",
   "execution_count": 12,
   "id": "eceeaedd",
   "metadata": {},
   "outputs": [
    {
     "data": {
      "text/html": [
       "<div>\n",
       "<style scoped>\n",
       "    .dataframe tbody tr th:only-of-type {\n",
       "        vertical-align: middle;\n",
       "    }\n",
       "\n",
       "    .dataframe tbody tr th {\n",
       "        vertical-align: top;\n",
       "    }\n",
       "\n",
       "    .dataframe thead th {\n",
       "        text-align: right;\n",
       "    }\n",
       "</style>\n",
       "<table border=\"1\" class=\"dataframe\">\n",
       "  <thead>\n",
       "    <tr style=\"text-align: right;\">\n",
       "      <th></th>\n",
       "      <th>id</th>\n",
       "      <th>brand</th>\n",
       "      <th>model</th>\n",
       "      <th>year</th>\n",
       "      <th>transmission</th>\n",
       "      <th>mileage</th>\n",
       "      <th>fuelType</th>\n",
       "      <th>tax</th>\n",
       "      <th>mpg</th>\n",
       "      <th>engineSize</th>\n",
       "      <th>tax(£)</th>\n",
       "      <th>price</th>\n",
       "    </tr>\n",
       "  </thead>\n",
       "  <tbody>\n",
       "    <tr>\n",
       "      <th>0</th>\n",
       "      <td>0</td>\n",
       "      <td>vauxhall</td>\n",
       "      <td>Astra</td>\n",
       "      <td>2017.0</td>\n",
       "      <td>Manual</td>\n",
       "      <td>19000</td>\n",
       "      <td>Diesel</td>\n",
       "      <td>20.0</td>\n",
       "      <td>72.4</td>\n",
       "      <td>1.6</td>\n",
       "      <td>NaN</td>\n",
       "      <td>10095</td>\n",
       "    </tr>\n",
       "    <tr>\n",
       "      <th>1</th>\n",
       "      <td>1</td>\n",
       "      <td>ford</td>\n",
       "      <td>Focus</td>\n",
       "      <td>2017.0</td>\n",
       "      <td>Manual</td>\n",
       "      <td>26973</td>\n",
       "      <td>Petrol</td>\n",
       "      <td>145.0</td>\n",
       "      <td>57.7</td>\n",
       "      <td>1.0</td>\n",
       "      <td>NaN</td>\n",
       "      <td>11999</td>\n",
       "    </tr>\n",
       "    <tr>\n",
       "      <th>2</th>\n",
       "      <td>2</td>\n",
       "      <td>Mercedes-Benz</td>\n",
       "      <td>A Class</td>\n",
       "      <td>2019.0</td>\n",
       "      <td>Manual</td>\n",
       "      <td>2078</td>\n",
       "      <td>Petrol</td>\n",
       "      <td>145.0</td>\n",
       "      <td>47.1</td>\n",
       "      <td>1.3</td>\n",
       "      <td>NaN</td>\n",
       "      <td>23299</td>\n",
       "    </tr>\n",
       "    <tr>\n",
       "      <th>3</th>\n",
       "      <td>3</td>\n",
       "      <td>toyota</td>\n",
       "      <td>Aygo</td>\n",
       "      <td>2016.0</td>\n",
       "      <td>Manual</td>\n",
       "      <td>20169</td>\n",
       "      <td>Petrol</td>\n",
       "      <td>0.0</td>\n",
       "      <td>69.0</td>\n",
       "      <td>1.0</td>\n",
       "      <td>NaN</td>\n",
       "      <td>6698</td>\n",
       "    </tr>\n",
       "    <tr>\n",
       "      <th>4</th>\n",
       "      <td>4</td>\n",
       "      <td>bmw</td>\n",
       "      <td>4 Series</td>\n",
       "      <td>2016.0</td>\n",
       "      <td>Manual</td>\n",
       "      <td>97706</td>\n",
       "      <td>Diesel</td>\n",
       "      <td>30.0</td>\n",
       "      <td>62.8</td>\n",
       "      <td>2.0</td>\n",
       "      <td>NaN</td>\n",
       "      <td>11250</td>\n",
       "    </tr>\n",
       "    <tr>\n",
       "      <th>...</th>\n",
       "      <td>...</td>\n",
       "      <td>...</td>\n",
       "      <td>...</td>\n",
       "      <td>...</td>\n",
       "      <td>...</td>\n",
       "      <td>...</td>\n",
       "      <td>...</td>\n",
       "      <td>...</td>\n",
       "      <td>...</td>\n",
       "      <td>...</td>\n",
       "      <td>...</td>\n",
       "      <td>...</td>\n",
       "    </tr>\n",
       "    <tr>\n",
       "      <th>98943</th>\n",
       "      <td>98943</td>\n",
       "      <td>audi</td>\n",
       "      <td>A8</td>\n",
       "      <td>2018.0</td>\n",
       "      <td>Automatic</td>\n",
       "      <td>4284</td>\n",
       "      <td>Petrol</td>\n",
       "      <td>145.0</td>\n",
       "      <td>37.7</td>\n",
       "      <td>3.0</td>\n",
       "      <td>NaN</td>\n",
       "      <td>38500</td>\n",
       "    </tr>\n",
       "    <tr>\n",
       "      <th>98944</th>\n",
       "      <td>98944</td>\n",
       "      <td>vauxhall</td>\n",
       "      <td>Mokka X</td>\n",
       "      <td>2019.0</td>\n",
       "      <td>Manual</td>\n",
       "      <td>9558</td>\n",
       "      <td>Petrol</td>\n",
       "      <td>145.0</td>\n",
       "      <td>39.2</td>\n",
       "      <td>1.4</td>\n",
       "      <td>NaN</td>\n",
       "      <td>14298</td>\n",
       "    </tr>\n",
       "    <tr>\n",
       "      <th>98945</th>\n",
       "      <td>98945</td>\n",
       "      <td>vw</td>\n",
       "      <td>Passat</td>\n",
       "      <td>2016.0</td>\n",
       "      <td>Manual</td>\n",
       "      <td>51241</td>\n",
       "      <td>Diesel</td>\n",
       "      <td>20.0</td>\n",
       "      <td>68.9</td>\n",
       "      <td>2.0</td>\n",
       "      <td>NaN</td>\n",
       "      <td>11995</td>\n",
       "    </tr>\n",
       "    <tr>\n",
       "      <th>98946</th>\n",
       "      <td>98946</td>\n",
       "      <td>bmw</td>\n",
       "      <td>5 Series</td>\n",
       "      <td>2012.0</td>\n",
       "      <td>Automatic</td>\n",
       "      <td>129000</td>\n",
       "      <td>Diesel</td>\n",
       "      <td>165.0</td>\n",
       "      <td>51.4</td>\n",
       "      <td>3.0</td>\n",
       "      <td>NaN</td>\n",
       "      <td>9499</td>\n",
       "    </tr>\n",
       "    <tr>\n",
       "      <th>98947</th>\n",
       "      <td>98947</td>\n",
       "      <td>ford</td>\n",
       "      <td>Mondeo</td>\n",
       "      <td>2020.0</td>\n",
       "      <td>Automatic</td>\n",
       "      <td>2213</td>\n",
       "      <td>Hybrid</td>\n",
       "      <td>135.0</td>\n",
       "      <td>47.9</td>\n",
       "      <td>2.0</td>\n",
       "      <td>NaN</td>\n",
       "      <td>24979</td>\n",
       "    </tr>\n",
       "  </tbody>\n",
       "</table>\n",
       "<p>98650 rows × 12 columns</p>\n",
       "</div>"
      ],
      "text/plain": [
       "          id          brand     model    year transmission  mileage fuelType  \\\n",
       "0          0       vauxhall     Astra  2017.0       Manual    19000   Diesel   \n",
       "1          1           ford     Focus  2017.0       Manual    26973   Petrol   \n",
       "2          2  Mercedes-Benz   A Class  2019.0       Manual     2078   Petrol   \n",
       "3          3         toyota      Aygo  2016.0       Manual    20169   Petrol   \n",
       "4          4            bmw  4 Series  2016.0       Manual    97706   Diesel   \n",
       "...      ...            ...       ...     ...          ...      ...      ...   \n",
       "98943  98943           audi        A8  2018.0    Automatic     4284   Petrol   \n",
       "98944  98944       vauxhall   Mokka X  2019.0       Manual     9558   Petrol   \n",
       "98945  98945             vw    Passat  2016.0       Manual    51241   Diesel   \n",
       "98946  98946            bmw  5 Series  2012.0    Automatic   129000   Diesel   \n",
       "98947  98947           ford    Mondeo  2020.0    Automatic     2213   Hybrid   \n",
       "\n",
       "         tax   mpg  engineSize  tax(£)  price  \n",
       "0       20.0  72.4         1.6     NaN  10095  \n",
       "1      145.0  57.7         1.0     NaN  11999  \n",
       "2      145.0  47.1         1.3     NaN  23299  \n",
       "3        0.0  69.0         1.0     NaN   6698  \n",
       "4       30.0  62.8         2.0     NaN  11250  \n",
       "...      ...   ...         ...     ...    ...  \n",
       "98943  145.0  37.7         3.0     NaN  38500  \n",
       "98944  145.0  39.2         1.4     NaN  14298  \n",
       "98945   20.0  68.9         2.0     NaN  11995  \n",
       "98946  165.0  51.4         3.0     NaN   9499  \n",
       "98947  135.0  47.9         2.0     NaN  24979  \n",
       "\n",
       "[98650 rows x 12 columns]"
      ]
     },
     "execution_count": 12,
     "metadata": {},
     "output_type": "execute_result"
    }
   ],
   "source": [
    "# getting rid of obvious error in 'mpg' and 'engineSize'\n",
    "data = data.drop(data[data.mpg < 15].index)\n",
    "data = data.drop(data[data.engineSize < 0.1].index)\n",
    "data"
   ]
  },
  {
   "cell_type": "markdown",
   "id": "382bdd28",
   "metadata": {},
   "source": [
    "## 1.2. Missing values"
   ]
  },
  {
   "cell_type": "code",
   "execution_count": 13,
   "id": "5b05091e",
   "metadata": {},
   "outputs": [
    {
     "data": {
      "text/html": [
       "<style type=\"text/css\">\n",
       "#T_14700_row0_col0, #T_14700_row1_col0, #T_14700_row2_col0, #T_14700_row4_col0, #T_14700_row5_col0, #T_14700_row6_col0, #T_14700_row9_col0, #T_14700_row11_col0 {\n",
       "  width: 10em;\n",
       "}\n",
       "#T_14700_row3_col0 {\n",
       "  width: 10em;\n",
       "  background: linear-gradient(90deg, #d65f5f 0.0%, transparent 0.0%);\n",
       "}\n",
       "#T_14700_row7_col0 {\n",
       "  width: 10em;\n",
       "  background: linear-gradient(90deg, #d65f5f 13.1%, transparent 13.1%);\n",
       "}\n",
       "#T_14700_row8_col0 {\n",
       "  width: 10em;\n",
       "  background: linear-gradient(90deg, #d65f5f 8.6%, transparent 8.6%);\n",
       "}\n",
       "#T_14700_row10_col0 {\n",
       "  width: 10em;\n",
       "  background: linear-gradient(90deg, #d65f5f 95.5%, transparent 95.5%);\n",
       "}\n",
       "</style>\n",
       "<table id=\"T_14700\">\n",
       "  <thead>\n",
       "    <tr>\n",
       "      <th class=\"blank level0\" >&nbsp;</th>\n",
       "      <th id=\"T_14700_level0_col0\" class=\"col_heading level0 col0\" >percent of NA</th>\n",
       "    </tr>\n",
       "  </thead>\n",
       "  <tbody>\n",
       "    <tr>\n",
       "      <th id=\"T_14700_level0_row0\" class=\"row_heading level0 row0\" >id</th>\n",
       "      <td id=\"T_14700_row0_col0\" class=\"data row0 col0\" >0.00%</td>\n",
       "    </tr>\n",
       "    <tr>\n",
       "      <th id=\"T_14700_level0_row1\" class=\"row_heading level0 row1\" >brand</th>\n",
       "      <td id=\"T_14700_row1_col0\" class=\"data row1 col0\" >0.00%</td>\n",
       "    </tr>\n",
       "    <tr>\n",
       "      <th id=\"T_14700_level0_row2\" class=\"row_heading level0 row2\" >model</th>\n",
       "      <td id=\"T_14700_row2_col0\" class=\"data row2 col0\" >0.00%</td>\n",
       "    </tr>\n",
       "    <tr>\n",
       "      <th id=\"T_14700_level0_row3\" class=\"row_heading level0 row3\" >year</th>\n",
       "      <td id=\"T_14700_row3_col0\" class=\"data row3 col0\" >0.01%</td>\n",
       "    </tr>\n",
       "    <tr>\n",
       "      <th id=\"T_14700_level0_row4\" class=\"row_heading level0 row4\" >transmission</th>\n",
       "      <td id=\"T_14700_row4_col0\" class=\"data row4 col0\" >0.00%</td>\n",
       "    </tr>\n",
       "    <tr>\n",
       "      <th id=\"T_14700_level0_row5\" class=\"row_heading level0 row5\" >mileage</th>\n",
       "      <td id=\"T_14700_row5_col0\" class=\"data row5 col0\" >0.00%</td>\n",
       "    </tr>\n",
       "    <tr>\n",
       "      <th id=\"T_14700_level0_row6\" class=\"row_heading level0 row6\" >fuelType</th>\n",
       "      <td id=\"T_14700_row6_col0\" class=\"data row6 col0\" >0.00%</td>\n",
       "    </tr>\n",
       "    <tr>\n",
       "      <th id=\"T_14700_level0_row7\" class=\"row_heading level0 row7\" >tax</th>\n",
       "      <td id=\"T_14700_row7_col0\" class=\"data row7 col0\" >13.10%</td>\n",
       "    </tr>\n",
       "    <tr>\n",
       "      <th id=\"T_14700_level0_row8\" class=\"row_heading level0 row8\" >mpg</th>\n",
       "      <td id=\"T_14700_row8_col0\" class=\"data row8 col0\" >8.63%</td>\n",
       "    </tr>\n",
       "    <tr>\n",
       "      <th id=\"T_14700_level0_row9\" class=\"row_heading level0 row9\" >engineSize</th>\n",
       "      <td id=\"T_14700_row9_col0\" class=\"data row9 col0\" >0.00%</td>\n",
       "    </tr>\n",
       "    <tr>\n",
       "      <th id=\"T_14700_level0_row10\" class=\"row_heading level0 row10\" >tax(£)</th>\n",
       "      <td id=\"T_14700_row10_col0\" class=\"data row10 col0\" >95.53%</td>\n",
       "    </tr>\n",
       "    <tr>\n",
       "      <th id=\"T_14700_level0_row11\" class=\"row_heading level0 row11\" >price</th>\n",
       "      <td id=\"T_14700_row11_col0\" class=\"data row11 col0\" >0.00%</td>\n",
       "    </tr>\n",
       "  </tbody>\n",
       "</table>\n"
      ],
      "text/plain": [
       "<pandas.io.formats.style.Styler at 0x7f9a9e3ac2b0>"
      ]
     },
     "execution_count": 13,
     "metadata": {},
     "output_type": "execute_result"
    }
   ],
   "source": [
    "# percentage of missing data\n",
    "(data.isna().sum() / len(data)).rename('percent of NA').to_frame().style.bar(vmax=1, vmin=0).format('{:.2%}')"
   ]
  },
  {
   "cell_type": "code",
   "execution_count": 14,
   "id": "5993dcc5",
   "metadata": {},
   "outputs": [],
   "source": [
    "# dropping 'tax(£)' and 'id'\n",
    "data=data.drop(columns = ['tax(£)', 'id']) "
   ]
  },
  {
   "cell_type": "markdown",
   "id": "e4bf4aa3",
   "metadata": {},
   "source": [
    "## 1.3. Analysis afterwards"
   ]
  },
  {
   "cell_type": "code",
   "execution_count": 43,
   "id": "e8245b26",
   "metadata": {},
   "outputs": [
    {
     "data": {
      "text/html": [
       "<div>\n",
       "<style scoped>\n",
       "    .dataframe tbody tr th:only-of-type {\n",
       "        vertical-align: middle;\n",
       "    }\n",
       "\n",
       "    .dataframe tbody tr th {\n",
       "        vertical-align: top;\n",
       "    }\n",
       "\n",
       "    .dataframe thead th {\n",
       "        text-align: right;\n",
       "    }\n",
       "</style>\n",
       "<table border=\"1\" class=\"dataframe\">\n",
       "  <thead>\n",
       "    <tr style=\"text-align: right;\">\n",
       "      <th></th>\n",
       "      <th>id</th>\n",
       "      <th>year</th>\n",
       "      <th>tax</th>\n",
       "      <th>mpg</th>\n",
       "      <th>engineSize</th>\n",
       "      <th>tax(£)</th>\n",
       "      <th>price</th>\n",
       "    </tr>\n",
       "  </thead>\n",
       "  <tbody>\n",
       "    <tr>\n",
       "      <th>count</th>\n",
       "      <td>98948.000000</td>\n",
       "      <td>98939.000000</td>\n",
       "      <td>85970.000000</td>\n",
       "      <td>90426.000000</td>\n",
       "      <td>98948.000000</td>\n",
       "      <td>4456.000000</td>\n",
       "      <td>98948.000000</td>\n",
       "    </tr>\n",
       "    <tr>\n",
       "      <th>mean</th>\n",
       "      <td>49473.500000</td>\n",
       "      <td>2017.095331</td>\n",
       "      <td>120.248924</td>\n",
       "      <td>55.171346</td>\n",
       "      <td>1.661181</td>\n",
       "      <td>120.828097</td>\n",
       "      <td>16882.304453</td>\n",
       "    </tr>\n",
       "    <tr>\n",
       "      <th>std</th>\n",
       "      <td>28563.971555</td>\n",
       "      <td>2.138149</td>\n",
       "      <td>63.467639</td>\n",
       "      <td>16.098416</td>\n",
       "      <td>0.556509</td>\n",
       "      <td>58.352896</td>\n",
       "      <td>9744.497982</td>\n",
       "    </tr>\n",
       "    <tr>\n",
       "      <th>min</th>\n",
       "      <td>0.000000</td>\n",
       "      <td>1970.000000</td>\n",
       "      <td>0.000000</td>\n",
       "      <td>0.300000</td>\n",
       "      <td>0.000000</td>\n",
       "      <td>0.000000</td>\n",
       "      <td>-695.000000</td>\n",
       "    </tr>\n",
       "    <tr>\n",
       "      <th>25%</th>\n",
       "      <td>24736.750000</td>\n",
       "      <td>2016.000000</td>\n",
       "      <td>125.000000</td>\n",
       "      <td>47.100000</td>\n",
       "      <td>1.200000</td>\n",
       "      <td>125.000000</td>\n",
       "      <td>10200.000000</td>\n",
       "    </tr>\n",
       "    <tr>\n",
       "      <th>50%</th>\n",
       "      <td>49473.500000</td>\n",
       "      <td>2017.000000</td>\n",
       "      <td>145.000000</td>\n",
       "      <td>54.300000</td>\n",
       "      <td>1.600000</td>\n",
       "      <td>145.000000</td>\n",
       "      <td>14691.000000</td>\n",
       "    </tr>\n",
       "    <tr>\n",
       "      <th>75%</th>\n",
       "      <td>74210.250000</td>\n",
       "      <td>2019.000000</td>\n",
       "      <td>145.000000</td>\n",
       "      <td>62.800000</td>\n",
       "      <td>2.000000</td>\n",
       "      <td>145.000000</td>\n",
       "      <td>20899.000000</td>\n",
       "    </tr>\n",
       "    <tr>\n",
       "      <th>max</th>\n",
       "      <td>98947.000000</td>\n",
       "      <td>2060.000000</td>\n",
       "      <td>580.000000</td>\n",
       "      <td>470.800000</td>\n",
       "      <td>6.600000</td>\n",
       "      <td>555.000000</td>\n",
       "      <td>159999.000000</td>\n",
       "    </tr>\n",
       "  </tbody>\n",
       "</table>\n",
       "</div>"
      ],
      "text/plain": [
       "                 id          year           tax           mpg    engineSize  \\\n",
       "count  98948.000000  98939.000000  85970.000000  90426.000000  98948.000000   \n",
       "mean   49473.500000   2017.095331    120.248924     55.171346      1.661181   \n",
       "std    28563.971555      2.138149     63.467639     16.098416      0.556509   \n",
       "min        0.000000   1970.000000      0.000000      0.300000      0.000000   \n",
       "25%    24736.750000   2016.000000    125.000000     47.100000      1.200000   \n",
       "50%    49473.500000   2017.000000    145.000000     54.300000      1.600000   \n",
       "75%    74210.250000   2019.000000    145.000000     62.800000      2.000000   \n",
       "max    98947.000000   2060.000000    580.000000    470.800000      6.600000   \n",
       "\n",
       "            tax(£)          price  \n",
       "count  4456.000000   98948.000000  \n",
       "mean    120.828097   16882.304453  \n",
       "std      58.352896    9744.497982  \n",
       "min       0.000000    -695.000000  \n",
       "25%     125.000000   10200.000000  \n",
       "50%     145.000000   14691.000000  \n",
       "75%     145.000000   20899.000000  \n",
       "max     555.000000  159999.000000  "
      ]
     },
     "execution_count": 43,
     "metadata": {},
     "output_type": "execute_result"
    }
   ],
   "source": [
    "data.describe()"
   ]
  },
  {
   "cell_type": "code",
   "execution_count": 44,
   "id": "cb0055a9",
   "metadata": {},
   "outputs": [
    {
     "data": {
      "text/html": [
       "<div>\n",
       "<style scoped>\n",
       "    .dataframe tbody tr th:only-of-type {\n",
       "        vertical-align: middle;\n",
       "    }\n",
       "\n",
       "    .dataframe tbody tr th {\n",
       "        vertical-align: top;\n",
       "    }\n",
       "\n",
       "    .dataframe thead th {\n",
       "        text-align: right;\n",
       "    }\n",
       "</style>\n",
       "<table border=\"1\" class=\"dataframe\">\n",
       "  <thead>\n",
       "    <tr style=\"text-align: right;\">\n",
       "      <th></th>\n",
       "      <th>brand</th>\n",
       "      <th>model</th>\n",
       "      <th>transmission</th>\n",
       "      <th>mileage</th>\n",
       "      <th>fuelType</th>\n",
       "    </tr>\n",
       "  </thead>\n",
       "  <tbody>\n",
       "    <tr>\n",
       "      <th>count</th>\n",
       "      <td>98948</td>\n",
       "      <td>98948</td>\n",
       "      <td>98948</td>\n",
       "      <td>98948</td>\n",
       "      <td>98948</td>\n",
       "    </tr>\n",
       "    <tr>\n",
       "      <th>unique</th>\n",
       "      <td>9</td>\n",
       "      <td>194</td>\n",
       "      <td>4</td>\n",
       "      <td>40568</td>\n",
       "      <td>5</td>\n",
       "    </tr>\n",
       "    <tr>\n",
       "      <th>top</th>\n",
       "      <td>ford</td>\n",
       "      <td>Focus</td>\n",
       "      <td>Manual</td>\n",
       "      <td>10 km</td>\n",
       "      <td>Petrol</td>\n",
       "    </tr>\n",
       "    <tr>\n",
       "      <th>freq</th>\n",
       "      <td>21335</td>\n",
       "      <td>9116</td>\n",
       "      <td>55883</td>\n",
       "      <td>772</td>\n",
       "      <td>54576</td>\n",
       "    </tr>\n",
       "  </tbody>\n",
       "</table>\n",
       "</div>"
      ],
      "text/plain": [
       "        brand   model transmission mileage fuelType\n",
       "count   98948   98948        98948   98948    98948\n",
       "unique      9     194            4   40568        5\n",
       "top      ford   Focus       Manual   10 km   Petrol\n",
       "freq    21335    9116        55883     772    54576"
      ]
     },
     "execution_count": 44,
     "metadata": {},
     "output_type": "execute_result"
    }
   ],
   "source": [
    "data.describe(include = 'object')"
   ]
  },
  {
   "cell_type": "code",
   "execution_count": 45,
   "id": "aa2f6ea5",
   "metadata": {},
   "outputs": [
    {
     "data": {
      "text/html": [
       "<div>\n",
       "<style scoped>\n",
       "    .dataframe tbody tr th:only-of-type {\n",
       "        vertical-align: middle;\n",
       "    }\n",
       "\n",
       "    .dataframe tbody tr th {\n",
       "        vertical-align: top;\n",
       "    }\n",
       "\n",
       "    .dataframe thead th {\n",
       "        text-align: right;\n",
       "    }\n",
       "</style>\n",
       "<table border=\"1\" class=\"dataframe\">\n",
       "  <thead>\n",
       "    <tr style=\"text-align: right;\">\n",
       "      <th></th>\n",
       "      <th>id</th>\n",
       "      <th>year</th>\n",
       "      <th>tax</th>\n",
       "      <th>mpg</th>\n",
       "      <th>engineSize</th>\n",
       "      <th>tax(£)</th>\n",
       "      <th>price</th>\n",
       "    </tr>\n",
       "  </thead>\n",
       "  <tbody>\n",
       "    <tr>\n",
       "      <th>count</th>\n",
       "      <td>98948</td>\n",
       "      <td>98948</td>\n",
       "      <td>98948</td>\n",
       "      <td>98948</td>\n",
       "      <td>98948</td>\n",
       "      <td>98948</td>\n",
       "      <td>98948</td>\n",
       "    </tr>\n",
       "    <tr>\n",
       "      <th>unique</th>\n",
       "      <td>98948</td>\n",
       "      <td>30</td>\n",
       "      <td>48</td>\n",
       "      <td>207</td>\n",
       "      <td>42</td>\n",
       "      <td>25</td>\n",
       "      <td>12712</td>\n",
       "    </tr>\n",
       "    <tr>\n",
       "      <th>top</th>\n",
       "      <td>0</td>\n",
       "      <td>2019.0</td>\n",
       "      <td>145.0</td>\n",
       "      <td>nan</td>\n",
       "      <td>2.0</td>\n",
       "      <td>nan</td>\n",
       "      <td>9995</td>\n",
       "    </tr>\n",
       "    <tr>\n",
       "      <th>freq</th>\n",
       "      <td>1</td>\n",
       "      <td>27283</td>\n",
       "      <td>42094</td>\n",
       "      <td>8522</td>\n",
       "      <td>26897</td>\n",
       "      <td>94492</td>\n",
       "      <td>557</td>\n",
       "    </tr>\n",
       "  </tbody>\n",
       "</table>\n",
       "</div>"
      ],
      "text/plain": [
       "           id    year    tax    mpg engineSize tax(£)  price\n",
       "count   98948   98948  98948  98948      98948  98948  98948\n",
       "unique  98948      30     48    207         42     25  12712\n",
       "top         0  2019.0  145.0    nan        2.0    nan   9995\n",
       "freq        1   27283  42094   8522      26897  94492    557"
      ]
     },
     "execution_count": 45,
     "metadata": {},
     "output_type": "execute_result"
    }
   ],
   "source": [
    "data.select_dtypes('number').astype(str).describe()"
   ]
  },
  {
   "cell_type": "markdown",
   "id": "debd2a34",
   "metadata": {},
   "source": [
    "# 2. Train & Test Samples Splitting"
   ]
  },
  {
   "cell_type": "code",
   "execution_count": 15,
   "id": "c60fe1c4",
   "metadata": {},
   "outputs": [],
   "source": [
    "X, y = data.drop(columns = ['price']), data.price"
   ]
  },
  {
   "cell_type": "code",
   "execution_count": 16,
   "id": "cdd3dfea",
   "metadata": {},
   "outputs": [],
   "source": [
    "X_train, X_test, y_train, y_test = train_test_split (X, y, test_size = 0.3, random_state = 4, shuffle=False)"
   ]
  },
  {
   "cell_type": "markdown",
   "id": "dd58724f",
   "metadata": {},
   "source": [
    "# 3. Mapper & Pipeline & GridSearch & RandomSearch"
   ]
  },
  {
   "cell_type": "code",
   "execution_count": 18,
   "id": "931b8309",
   "metadata": {},
   "outputs": [],
   "source": [
    "numeric_features = X.select_dtypes('number').columns.tolist()\n",
    "nominal_features = X.select_dtypes(object).columns.tolist()"
   ]
  },
  {
   "cell_type": "markdown",
   "id": "8c590bba",
   "metadata": {},
   "source": [
    "**Note:** the pipeline needs optimal parameters to be found out - see below!"
   ]
  },
  {
   "cell_type": "code",
   "execution_count": 34,
   "id": "35266041",
   "metadata": {},
   "outputs": [
    {
     "data": {
      "text/html": [
       "<style>#sk-container-id-2 {color: black;background-color: white;}#sk-container-id-2 pre{padding: 0;}#sk-container-id-2 div.sk-toggleable {background-color: white;}#sk-container-id-2 label.sk-toggleable__label {cursor: pointer;display: block;width: 100%;margin-bottom: 0;padding: 0.3em;box-sizing: border-box;text-align: center;}#sk-container-id-2 label.sk-toggleable__label-arrow:before {content: \"▸\";float: left;margin-right: 0.25em;color: #696969;}#sk-container-id-2 label.sk-toggleable__label-arrow:hover:before {color: black;}#sk-container-id-2 div.sk-estimator:hover label.sk-toggleable__label-arrow:before {color: black;}#sk-container-id-2 div.sk-toggleable__content {max-height: 0;max-width: 0;overflow: hidden;text-align: left;background-color: #f0f8ff;}#sk-container-id-2 div.sk-toggleable__content pre {margin: 0.2em;color: black;border-radius: 0.25em;background-color: #f0f8ff;}#sk-container-id-2 input.sk-toggleable__control:checked~div.sk-toggleable__content {max-height: 200px;max-width: 100%;overflow: auto;}#sk-container-id-2 input.sk-toggleable__control:checked~label.sk-toggleable__label-arrow:before {content: \"▾\";}#sk-container-id-2 div.sk-estimator input.sk-toggleable__control:checked~label.sk-toggleable__label {background-color: #d4ebff;}#sk-container-id-2 div.sk-label input.sk-toggleable__control:checked~label.sk-toggleable__label {background-color: #d4ebff;}#sk-container-id-2 input.sk-hidden--visually {border: 0;clip: rect(1px 1px 1px 1px);clip: rect(1px, 1px, 1px, 1px);height: 1px;margin: -1px;overflow: hidden;padding: 0;position: absolute;width: 1px;}#sk-container-id-2 div.sk-estimator {font-family: monospace;background-color: #f0f8ff;border: 1px dotted black;border-radius: 0.25em;box-sizing: border-box;margin-bottom: 0.5em;}#sk-container-id-2 div.sk-estimator:hover {background-color: #d4ebff;}#sk-container-id-2 div.sk-parallel-item::after {content: \"\";width: 100%;border-bottom: 1px solid gray;flex-grow: 1;}#sk-container-id-2 div.sk-label:hover label.sk-toggleable__label {background-color: #d4ebff;}#sk-container-id-2 div.sk-serial::before {content: \"\";position: absolute;border-left: 1px solid gray;box-sizing: border-box;top: 0;bottom: 0;left: 50%;z-index: 0;}#sk-container-id-2 div.sk-serial {display: flex;flex-direction: column;align-items: center;background-color: white;padding-right: 0.2em;padding-left: 0.2em;position: relative;}#sk-container-id-2 div.sk-item {position: relative;z-index: 1;}#sk-container-id-2 div.sk-parallel {display: flex;align-items: stretch;justify-content: center;background-color: white;position: relative;}#sk-container-id-2 div.sk-item::before, #sk-container-id-2 div.sk-parallel-item::before {content: \"\";position: absolute;border-left: 1px solid gray;box-sizing: border-box;top: 0;bottom: 0;left: 50%;z-index: -1;}#sk-container-id-2 div.sk-parallel-item {display: flex;flex-direction: column;z-index: 1;position: relative;background-color: white;}#sk-container-id-2 div.sk-parallel-item:first-child::after {align-self: flex-end;width: 50%;}#sk-container-id-2 div.sk-parallel-item:last-child::after {align-self: flex-start;width: 50%;}#sk-container-id-2 div.sk-parallel-item:only-child::after {width: 0;}#sk-container-id-2 div.sk-dashed-wrapped {border: 1px dashed gray;margin: 0 0.4em 0.5em 0.4em;box-sizing: border-box;padding-bottom: 0.4em;background-color: white;}#sk-container-id-2 div.sk-label label {font-family: monospace;font-weight: bold;display: inline-block;line-height: 1.2em;}#sk-container-id-2 div.sk-label-container {text-align: center;}#sk-container-id-2 div.sk-container {/* jupyter's `normalize.less` sets `[hidden] { display: none; }` but bootstrap.min.css set `[hidden] { display: none !important; }` so we also need the `!important` here to be able to override the default hidden behavior on the sphinx rendered scikit-learn.org. See: https://github.com/scikit-learn/scikit-learn/issues/21755 */display: inline-block !important;position: relative;}#sk-container-id-2 div.sk-text-repr-fallback {display: none;}</style><div id=\"sk-container-id-2\" class=\"sk-top-container\"><div class=\"sk-text-repr-fallback\"><pre>Pipeline(steps=[(&#x27;preprocessing&#x27;,\n",
       "                 DataFrameMapper(df_out=True, drop_cols=[],\n",
       "                                 features=[([&#x27;year&#x27;], SimpleImputer()),\n",
       "                                           ([&#x27;mileage&#x27;], SimpleImputer()),\n",
       "                                           ([&#x27;tax&#x27;], SimpleImputer()),\n",
       "                                           ([&#x27;mpg&#x27;], SimpleImputer()),\n",
       "                                           ([&#x27;engineSize&#x27;], SimpleImputer()),\n",
       "                                           ([&#x27;transmission&#x27;],\n",
       "                                            OneHotEncoder(handle_unknown=&#x27;ignore&#x27;)),\n",
       "                                           ([&#x27;brand&#x27;],\n",
       "                                            OneHotEncoder(handle_unknown=&#x27;ignore&#x27;)),\n",
       "                                           ([&#x27;model&#x27;],\n",
       "                                            OneH...\n",
       "                              eval_metric=None, feature_types=None, gamma=None,\n",
       "                              gpu_id=None, grow_policy=None,\n",
       "                              importance_type=None,\n",
       "                              interaction_constraints=None, learning_rate=None,\n",
       "                              max_bin=None, max_cat_threshold=None,\n",
       "                              max_cat_to_onehot=None, max_delta_step=None,\n",
       "                              max_depth=7, max_leaves=None,\n",
       "                              min_child_weight=None, missing=nan,\n",
       "                              monotone_constraints=None, n_estimators=500,\n",
       "                              n_jobs=None, num_parallel_tree=None,\n",
       "                              objective=&#x27;reg:linear&#x27;, ...))])</pre><b>In a Jupyter environment, please rerun this cell to show the HTML representation or trust the notebook. <br />On GitHub, the HTML representation is unable to render, please try loading this page with nbviewer.org.</b></div><div class=\"sk-container\" hidden><div class=\"sk-item sk-dashed-wrapped\"><div class=\"sk-label-container\"><div class=\"sk-label sk-toggleable\"><input class=\"sk-toggleable__control sk-hidden--visually\" id=\"sk-estimator-id-5\" type=\"checkbox\" ><label for=\"sk-estimator-id-5\" class=\"sk-toggleable__label sk-toggleable__label-arrow\">Pipeline</label><div class=\"sk-toggleable__content\"><pre>Pipeline(steps=[(&#x27;preprocessing&#x27;,\n",
       "                 DataFrameMapper(df_out=True, drop_cols=[],\n",
       "                                 features=[([&#x27;year&#x27;], SimpleImputer()),\n",
       "                                           ([&#x27;mileage&#x27;], SimpleImputer()),\n",
       "                                           ([&#x27;tax&#x27;], SimpleImputer()),\n",
       "                                           ([&#x27;mpg&#x27;], SimpleImputer()),\n",
       "                                           ([&#x27;engineSize&#x27;], SimpleImputer()),\n",
       "                                           ([&#x27;transmission&#x27;],\n",
       "                                            OneHotEncoder(handle_unknown=&#x27;ignore&#x27;)),\n",
       "                                           ([&#x27;brand&#x27;],\n",
       "                                            OneHotEncoder(handle_unknown=&#x27;ignore&#x27;)),\n",
       "                                           ([&#x27;model&#x27;],\n",
       "                                            OneH...\n",
       "                              eval_metric=None, feature_types=None, gamma=None,\n",
       "                              gpu_id=None, grow_policy=None,\n",
       "                              importance_type=None,\n",
       "                              interaction_constraints=None, learning_rate=None,\n",
       "                              max_bin=None, max_cat_threshold=None,\n",
       "                              max_cat_to_onehot=None, max_delta_step=None,\n",
       "                              max_depth=7, max_leaves=None,\n",
       "                              min_child_weight=None, missing=nan,\n",
       "                              monotone_constraints=None, n_estimators=500,\n",
       "                              n_jobs=None, num_parallel_tree=None,\n",
       "                              objective=&#x27;reg:linear&#x27;, ...))])</pre></div></div></div><div class=\"sk-serial\"><div class=\"sk-item\"><div class=\"sk-estimator sk-toggleable\"><input class=\"sk-toggleable__control sk-hidden--visually\" id=\"sk-estimator-id-6\" type=\"checkbox\" ><label for=\"sk-estimator-id-6\" class=\"sk-toggleable__label sk-toggleable__label-arrow\">DataFrameMapper</label><div class=\"sk-toggleable__content\"><pre>DataFrameMapper(df_out=True, drop_cols=[],\n",
       "                features=[([&#x27;year&#x27;], SimpleImputer()),\n",
       "                          ([&#x27;mileage&#x27;], SimpleImputer()),\n",
       "                          ([&#x27;tax&#x27;], SimpleImputer()),\n",
       "                          ([&#x27;mpg&#x27;], SimpleImputer()),\n",
       "                          ([&#x27;engineSize&#x27;], SimpleImputer()),\n",
       "                          ([&#x27;transmission&#x27;],\n",
       "                           OneHotEncoder(handle_unknown=&#x27;ignore&#x27;)),\n",
       "                          ([&#x27;brand&#x27;], OneHotEncoder(handle_unknown=&#x27;ignore&#x27;)),\n",
       "                          ([&#x27;model&#x27;], OneHotEncoder(handle_unknown=&#x27;ignore&#x27;)),\n",
       "                          ([&#x27;fuelType&#x27;],\n",
       "                           OneHotEncoder(handle_unknown=&#x27;ignore&#x27;))])</pre></div></div></div><div class=\"sk-item\"><div class=\"sk-estimator sk-toggleable\"><input class=\"sk-toggleable__control sk-hidden--visually\" id=\"sk-estimator-id-7\" type=\"checkbox\" ><label for=\"sk-estimator-id-7\" class=\"sk-toggleable__label sk-toggleable__label-arrow\">StandardScaler</label><div class=\"sk-toggleable__content\"><pre>StandardScaler()</pre></div></div></div><div class=\"sk-item\"><div class=\"sk-estimator sk-toggleable\"><input class=\"sk-toggleable__control sk-hidden--visually\" id=\"sk-estimator-id-8\" type=\"checkbox\" ><label for=\"sk-estimator-id-8\" class=\"sk-toggleable__label sk-toggleable__label-arrow\">XGBRegressor</label><div class=\"sk-toggleable__content\"><pre>XGBRegressor(base_score=None, booster=None, callbacks=None,\n",
       "             colsample_bylevel=None, colsample_bynode=None,\n",
       "             colsample_bytree=None, early_stopping_rounds=None,\n",
       "             enable_categorical=False, eta=0.3, eval_metric=None,\n",
       "             feature_types=None, gamma=None, gpu_id=None, grow_policy=None,\n",
       "             importance_type=None, interaction_constraints=None,\n",
       "             learning_rate=None, max_bin=None, max_cat_threshold=None,\n",
       "             max_cat_to_onehot=None, max_delta_step=None, max_depth=7,\n",
       "             max_leaves=None, min_child_weight=None, missing=nan,\n",
       "             monotone_constraints=None, n_estimators=500, n_jobs=None,\n",
       "             num_parallel_tree=None, objective=&#x27;reg:linear&#x27;, ...)</pre></div></div></div></div></div></div></div>"
      ],
      "text/plain": [
       "Pipeline(steps=[('preprocessing',\n",
       "                 DataFrameMapper(df_out=True, drop_cols=[],\n",
       "                                 features=[(['year'], SimpleImputer()),\n",
       "                                           (['mileage'], SimpleImputer()),\n",
       "                                           (['tax'], SimpleImputer()),\n",
       "                                           (['mpg'], SimpleImputer()),\n",
       "                                           (['engineSize'], SimpleImputer()),\n",
       "                                           (['transmission'],\n",
       "                                            OneHotEncoder(handle_unknown='ignore')),\n",
       "                                           (['brand'],\n",
       "                                            OneHotEncoder(handle_unknown='ignore')),\n",
       "                                           (['model'],\n",
       "                                            OneH...\n",
       "                              eval_metric=None, feature_types=None, gamma=None,\n",
       "                              gpu_id=None, grow_policy=None,\n",
       "                              importance_type=None,\n",
       "                              interaction_constraints=None, learning_rate=None,\n",
       "                              max_bin=None, max_cat_threshold=None,\n",
       "                              max_cat_to_onehot=None, max_delta_step=None,\n",
       "                              max_depth=7, max_leaves=None,\n",
       "                              min_child_weight=None, missing=nan,\n",
       "                              monotone_constraints=None, n_estimators=500,\n",
       "                              n_jobs=None, num_parallel_tree=None,\n",
       "                              objective='reg:linear', ...))])"
      ]
     },
     "execution_count": 34,
     "metadata": {},
     "output_type": "execute_result"
    }
   ],
   "source": [
    "mapper = DataFrameMapper([([feature], SimpleImputer()) for feature in numeric_features] +\\\n",
    "                         [([feature], OneHotEncoder(handle_unknown = 'ignore')) for feature in nominal_features],\n",
    "                             df_out=True)\n",
    "\n",
    "pipeline = Pipeline(steps = [('preprocessing', mapper), \n",
    "                             ('scaler', StandardScaler()),\n",
    "                             ('xgb', xgb.XGBRegressor(objective=\"reg:linear\", random_state=42,\\\n",
    "                                                      n_estimators = 500, eta = 0.3, max_depth = 7))])\n",
    "                             \n",
    "                             #('xgb', xgb.XGBRegressor(objective=\"reg:linear\", random_state=42))])\n",
    "\n",
    "        \n",
    "\n",
    "pipeline"
   ]
  },
  {
   "cell_type": "markdown",
   "id": "54c94e18",
   "metadata": {},
   "source": [
    "## 3.1. GridSearch"
   ]
  },
  {
   "cell_type": "code",
   "execution_count": 22,
   "id": "40764a93",
   "metadata": {},
   "outputs": [],
   "source": [
    "param_grid = {    \n",
    "    'xgb__n_estimators': [300, 500, 700],\n",
    "    'xgb__learning_rate': [0.1, 0.3, 0.5],\n",
    "    'xgb__max_depth': [3, 5, 7]}"
   ]
  },
  {
   "cell_type": "code",
   "execution_count": 30,
   "id": "249e0fec",
   "metadata": {},
   "outputs": [
    {
     "name": "stdout",
     "output_type": "stream",
     "text": [
      "CPU times: user 17 µs, sys: 2 µs, total: 19 µs\n",
      "Wall time: 23.1 µs\n"
     ]
    }
   ],
   "source": [
    "grid_search = GridSearchCV(estimator=pipeline, param_grid=param_grid, cv=3, n_jobs=-1, verbose=2)"
   ]
  },
  {
   "cell_type": "code",
   "execution_count": 31,
   "id": "73cf0f59",
   "metadata": {},
   "outputs": [
    {
     "name": "stdout",
     "output_type": "stream",
     "text": [
      "Fitting 3 folds for each of 2 candidates, totalling 6 fits\n",
      "[23:17:53] WARNING: /Users/runner/work/xgboost/xgboost/python-package/build/temp.macosx-10.9-x86_64-cpython-38/xgboost/src/objective/regression_obj.cu:213: reg:linear is now deprecated in favor of reg:squarederror.\n",
      "[CV] END xgb__learning_rate=0.3, xgb__max_depth=7, xgb__n_estimators=500; total time=13.5min\n",
      "[23:17:53] WARNING: /Users/runner/work/xgboost/xgboost/python-package/build/temp.macosx-10.9-x86_64-cpython-38/xgboost/src/objective/regression_obj.cu:213: reg:linear is now deprecated in favor of reg:squarederror.\n",
      "[CV] END xgb__learning_rate=0.3, xgb__max_depth=7, xgb__n_estimators=700; total time=17.4min\n",
      "[23:42:20] WARNING: /Users/runner/work/xgboost/xgboost/python-package/build/temp.macosx-10.9-x86_64-cpython-38/xgboost/src/objective/regression_obj.cu:213: reg:linear is now deprecated in favor of reg:squarederror.\n",
      "[23:17:53] WARNING: /Users/runner/work/xgboost/xgboost/python-package/build/temp.macosx-10.9-x86_64-cpython-38/xgboost/src/objective/regression_obj.cu:213: reg:linear is now deprecated in favor of reg:squarederror.\n",
      "[CV] END xgb__learning_rate=0.3, xgb__max_depth=7, xgb__n_estimators=500; total time=13.5min\n",
      "[23:31:18] WARNING: /Users/runner/work/xgboost/xgboost/python-package/build/temp.macosx-10.9-x86_64-cpython-38/xgboost/src/objective/regression_obj.cu:213: reg:linear is now deprecated in favor of reg:squarederror.\n",
      "[CV] END xgb__learning_rate=0.3, xgb__max_depth=7, xgb__n_estimators=700; total time=11.0min\n",
      "[23:17:53] WARNING: /Users/runner/work/xgboost/xgboost/python-package/build/temp.macosx-10.9-x86_64-cpython-38/xgboost/src/objective/regression_obj.cu:213: reg:linear is now deprecated in favor of reg:squarederror.\n",
      "[CV] END xgb__learning_rate=0.3, xgb__max_depth=7, xgb__n_estimators=500; total time=13.5min\n",
      "[23:31:22] WARNING: /Users/runner/work/xgboost/xgboost/python-package/build/temp.macosx-10.9-x86_64-cpython-38/xgboost/src/objective/regression_obj.cu:213: reg:linear is now deprecated in favor of reg:squarederror.\n",
      "[CV] END xgb__learning_rate=0.3, xgb__max_depth=7, xgb__n_estimators=700; total time=11.0min\n",
      "CPU times: user 18min 38s, sys: 4.14 s, total: 18min 42s\n",
      "Wall time: 29min 36s\n"
     ]
    },
    {
     "data": {
      "text/html": [
       "<style>#sk-container-id-5 {color: black;background-color: white;}#sk-container-id-5 pre{padding: 0;}#sk-container-id-5 div.sk-toggleable {background-color: white;}#sk-container-id-5 label.sk-toggleable__label {cursor: pointer;display: block;width: 100%;margin-bottom: 0;padding: 0.3em;box-sizing: border-box;text-align: center;}#sk-container-id-5 label.sk-toggleable__label-arrow:before {content: \"▸\";float: left;margin-right: 0.25em;color: #696969;}#sk-container-id-5 label.sk-toggleable__label-arrow:hover:before {color: black;}#sk-container-id-5 div.sk-estimator:hover label.sk-toggleable__label-arrow:before {color: black;}#sk-container-id-5 div.sk-toggleable__content {max-height: 0;max-width: 0;overflow: hidden;text-align: left;background-color: #f0f8ff;}#sk-container-id-5 div.sk-toggleable__content pre {margin: 0.2em;color: black;border-radius: 0.25em;background-color: #f0f8ff;}#sk-container-id-5 input.sk-toggleable__control:checked~div.sk-toggleable__content {max-height: 200px;max-width: 100%;overflow: auto;}#sk-container-id-5 input.sk-toggleable__control:checked~label.sk-toggleable__label-arrow:before {content: \"▾\";}#sk-container-id-5 div.sk-estimator input.sk-toggleable__control:checked~label.sk-toggleable__label {background-color: #d4ebff;}#sk-container-id-5 div.sk-label input.sk-toggleable__control:checked~label.sk-toggleable__label {background-color: #d4ebff;}#sk-container-id-5 input.sk-hidden--visually {border: 0;clip: rect(1px 1px 1px 1px);clip: rect(1px, 1px, 1px, 1px);height: 1px;margin: -1px;overflow: hidden;padding: 0;position: absolute;width: 1px;}#sk-container-id-5 div.sk-estimator {font-family: monospace;background-color: #f0f8ff;border: 1px dotted black;border-radius: 0.25em;box-sizing: border-box;margin-bottom: 0.5em;}#sk-container-id-5 div.sk-estimator:hover {background-color: #d4ebff;}#sk-container-id-5 div.sk-parallel-item::after {content: \"\";width: 100%;border-bottom: 1px solid gray;flex-grow: 1;}#sk-container-id-5 div.sk-label:hover label.sk-toggleable__label {background-color: #d4ebff;}#sk-container-id-5 div.sk-serial::before {content: \"\";position: absolute;border-left: 1px solid gray;box-sizing: border-box;top: 0;bottom: 0;left: 50%;z-index: 0;}#sk-container-id-5 div.sk-serial {display: flex;flex-direction: column;align-items: center;background-color: white;padding-right: 0.2em;padding-left: 0.2em;position: relative;}#sk-container-id-5 div.sk-item {position: relative;z-index: 1;}#sk-container-id-5 div.sk-parallel {display: flex;align-items: stretch;justify-content: center;background-color: white;position: relative;}#sk-container-id-5 div.sk-item::before, #sk-container-id-5 div.sk-parallel-item::before {content: \"\";position: absolute;border-left: 1px solid gray;box-sizing: border-box;top: 0;bottom: 0;left: 50%;z-index: -1;}#sk-container-id-5 div.sk-parallel-item {display: flex;flex-direction: column;z-index: 1;position: relative;background-color: white;}#sk-container-id-5 div.sk-parallel-item:first-child::after {align-self: flex-end;width: 50%;}#sk-container-id-5 div.sk-parallel-item:last-child::after {align-self: flex-start;width: 50%;}#sk-container-id-5 div.sk-parallel-item:only-child::after {width: 0;}#sk-container-id-5 div.sk-dashed-wrapped {border: 1px dashed gray;margin: 0 0.4em 0.5em 0.4em;box-sizing: border-box;padding-bottom: 0.4em;background-color: white;}#sk-container-id-5 div.sk-label label {font-family: monospace;font-weight: bold;display: inline-block;line-height: 1.2em;}#sk-container-id-5 div.sk-label-container {text-align: center;}#sk-container-id-5 div.sk-container {/* jupyter's `normalize.less` sets `[hidden] { display: none; }` but bootstrap.min.css set `[hidden] { display: none !important; }` so we also need the `!important` here to be able to override the default hidden behavior on the sphinx rendered scikit-learn.org. See: https://github.com/scikit-learn/scikit-learn/issues/21755 */display: inline-block !important;position: relative;}#sk-container-id-5 div.sk-text-repr-fallback {display: none;}</style><div id=\"sk-container-id-5\" class=\"sk-top-container\"><div class=\"sk-text-repr-fallback\"><pre>GridSearchCV(cv=3,\n",
       "             estimator=Pipeline(steps=[(&#x27;preprocessing&#x27;,\n",
       "                                        DataFrameMapper(df_out=True,\n",
       "                                                        drop_cols=[],\n",
       "                                                        features=[([&#x27;year&#x27;],\n",
       "                                                                   SimpleImputer()),\n",
       "                                                                  ([&#x27;mileage&#x27;],\n",
       "                                                                   SimpleImputer()),\n",
       "                                                                  ([&#x27;tax&#x27;],\n",
       "                                                                   SimpleImputer()),\n",
       "                                                                  ([&#x27;mpg&#x27;],\n",
       "                                                                   SimpleImputer()),\n",
       "                                                                  ([&#x27;engineSize&#x27;],\n",
       "                                                                   SimpleImputer()),\n",
       "                                                                  ([&#x27;transmission&#x27;],\n",
       "                                                                   OneHotEncoder(handle_unknown=&#x27;ignore&#x27;)),\n",
       "                                                                  ([&#x27;brand&#x27;],\n",
       "                                                                   OneHotEncoder(handle_unknow...\n",
       "                                                     max_cat_threshold=None,\n",
       "                                                     max_cat_to_onehot=None,\n",
       "                                                     max_delta_step=None,\n",
       "                                                     max_depth=None,\n",
       "                                                     max_leaves=None,\n",
       "                                                     min_child_weight=None,\n",
       "                                                     missing=nan,\n",
       "                                                     monotone_constraints=None,\n",
       "                                                     n_estimators=100,\n",
       "                                                     n_jobs=None,\n",
       "                                                     num_parallel_tree=None,\n",
       "                                                     objective=&#x27;reg:linear&#x27;,\n",
       "                                                     predictor=None, ...))]),\n",
       "             n_jobs=-1,\n",
       "             param_grid={&#x27;xgb__learning_rate&#x27;: [0.3], &#x27;xgb__max_depth&#x27;: [7],\n",
       "                         &#x27;xgb__n_estimators&#x27;: [500, 700]},\n",
       "             verbose=2)</pre><b>In a Jupyter environment, please rerun this cell to show the HTML representation or trust the notebook. <br />On GitHub, the HTML representation is unable to render, please try loading this page with nbviewer.org.</b></div><div class=\"sk-container\" hidden><div class=\"sk-item sk-dashed-wrapped\"><div class=\"sk-label-container\"><div class=\"sk-label sk-toggleable\"><input class=\"sk-toggleable__control sk-hidden--visually\" id=\"sk-estimator-id-17\" type=\"checkbox\" ><label for=\"sk-estimator-id-17\" class=\"sk-toggleable__label sk-toggleable__label-arrow\">GridSearchCV</label><div class=\"sk-toggleable__content\"><pre>GridSearchCV(cv=3,\n",
       "             estimator=Pipeline(steps=[(&#x27;preprocessing&#x27;,\n",
       "                                        DataFrameMapper(df_out=True,\n",
       "                                                        drop_cols=[],\n",
       "                                                        features=[([&#x27;year&#x27;],\n",
       "                                                                   SimpleImputer()),\n",
       "                                                                  ([&#x27;mileage&#x27;],\n",
       "                                                                   SimpleImputer()),\n",
       "                                                                  ([&#x27;tax&#x27;],\n",
       "                                                                   SimpleImputer()),\n",
       "                                                                  ([&#x27;mpg&#x27;],\n",
       "                                                                   SimpleImputer()),\n",
       "                                                                  ([&#x27;engineSize&#x27;],\n",
       "                                                                   SimpleImputer()),\n",
       "                                                                  ([&#x27;transmission&#x27;],\n",
       "                                                                   OneHotEncoder(handle_unknown=&#x27;ignore&#x27;)),\n",
       "                                                                  ([&#x27;brand&#x27;],\n",
       "                                                                   OneHotEncoder(handle_unknow...\n",
       "                                                     max_cat_threshold=None,\n",
       "                                                     max_cat_to_onehot=None,\n",
       "                                                     max_delta_step=None,\n",
       "                                                     max_depth=None,\n",
       "                                                     max_leaves=None,\n",
       "                                                     min_child_weight=None,\n",
       "                                                     missing=nan,\n",
       "                                                     monotone_constraints=None,\n",
       "                                                     n_estimators=100,\n",
       "                                                     n_jobs=None,\n",
       "                                                     num_parallel_tree=None,\n",
       "                                                     objective=&#x27;reg:linear&#x27;,\n",
       "                                                     predictor=None, ...))]),\n",
       "             n_jobs=-1,\n",
       "             param_grid={&#x27;xgb__learning_rate&#x27;: [0.3], &#x27;xgb__max_depth&#x27;: [7],\n",
       "                         &#x27;xgb__n_estimators&#x27;: [500, 700]},\n",
       "             verbose=2)</pre></div></div></div><div class=\"sk-parallel\"><div class=\"sk-parallel-item\"><div class=\"sk-item\"><div class=\"sk-label-container\"><div class=\"sk-label sk-toggleable\"><input class=\"sk-toggleable__control sk-hidden--visually\" id=\"sk-estimator-id-18\" type=\"checkbox\" ><label for=\"sk-estimator-id-18\" class=\"sk-toggleable__label sk-toggleable__label-arrow\">estimator: Pipeline</label><div class=\"sk-toggleable__content\"><pre>Pipeline(steps=[(&#x27;preprocessing&#x27;,\n",
       "                 DataFrameMapper(df_out=True, drop_cols=[],\n",
       "                                 features=[([&#x27;year&#x27;], SimpleImputer()),\n",
       "                                           ([&#x27;mileage&#x27;], SimpleImputer()),\n",
       "                                           ([&#x27;tax&#x27;], SimpleImputer()),\n",
       "                                           ([&#x27;mpg&#x27;], SimpleImputer()),\n",
       "                                           ([&#x27;engineSize&#x27;], SimpleImputer()),\n",
       "                                           ([&#x27;transmission&#x27;],\n",
       "                                            OneHotEncoder(handle_unknown=&#x27;ignore&#x27;)),\n",
       "                                           ([&#x27;brand&#x27;],\n",
       "                                            OneHotEncoder(handle_unknown=&#x27;ignore&#x27;)),\n",
       "                                           ([&#x27;model&#x27;],\n",
       "                                            OneH...\n",
       "                              grow_policy=None, importance_type=None,\n",
       "                              interaction_constraints=None, learning_rate=None,\n",
       "                              max_bin=None, max_cat_threshold=None,\n",
       "                              max_cat_to_onehot=None, max_delta_step=None,\n",
       "                              max_depth=None, max_leaves=None,\n",
       "                              min_child_weight=None, missing=nan,\n",
       "                              monotone_constraints=None, n_estimators=100,\n",
       "                              n_jobs=None, num_parallel_tree=None,\n",
       "                              objective=&#x27;reg:linear&#x27;, predictor=None, ...))])</pre></div></div></div><div class=\"sk-serial\"><div class=\"sk-item\"><div class=\"sk-serial\"><div class=\"sk-item\"><div class=\"sk-estimator sk-toggleable\"><input class=\"sk-toggleable__control sk-hidden--visually\" id=\"sk-estimator-id-19\" type=\"checkbox\" ><label for=\"sk-estimator-id-19\" class=\"sk-toggleable__label sk-toggleable__label-arrow\">DataFrameMapper</label><div class=\"sk-toggleable__content\"><pre>DataFrameMapper(df_out=True, drop_cols=[],\n",
       "                features=[([&#x27;year&#x27;], SimpleImputer()),\n",
       "                          ([&#x27;mileage&#x27;], SimpleImputer()),\n",
       "                          ([&#x27;tax&#x27;], SimpleImputer()),\n",
       "                          ([&#x27;mpg&#x27;], SimpleImputer()),\n",
       "                          ([&#x27;engineSize&#x27;], SimpleImputer()),\n",
       "                          ([&#x27;transmission&#x27;],\n",
       "                           OneHotEncoder(handle_unknown=&#x27;ignore&#x27;)),\n",
       "                          ([&#x27;brand&#x27;], OneHotEncoder(handle_unknown=&#x27;ignore&#x27;)),\n",
       "                          ([&#x27;model&#x27;], OneHotEncoder(handle_unknown=&#x27;ignore&#x27;)),\n",
       "                          ([&#x27;fuelType&#x27;],\n",
       "                           OneHotEncoder(handle_unknown=&#x27;ignore&#x27;))])</pre></div></div></div><div class=\"sk-item\"><div class=\"sk-estimator sk-toggleable\"><input class=\"sk-toggleable__control sk-hidden--visually\" id=\"sk-estimator-id-20\" type=\"checkbox\" ><label for=\"sk-estimator-id-20\" class=\"sk-toggleable__label sk-toggleable__label-arrow\">StandardScaler</label><div class=\"sk-toggleable__content\"><pre>StandardScaler()</pre></div></div></div><div class=\"sk-item\"><div class=\"sk-estimator sk-toggleable\"><input class=\"sk-toggleable__control sk-hidden--visually\" id=\"sk-estimator-id-21\" type=\"checkbox\" ><label for=\"sk-estimator-id-21\" class=\"sk-toggleable__label sk-toggleable__label-arrow\">XGBRegressor</label><div class=\"sk-toggleable__content\"><pre>XGBRegressor(base_score=None, booster=None, callbacks=None,\n",
       "             colsample_bylevel=None, colsample_bynode=None,\n",
       "             colsample_bytree=None, early_stopping_rounds=None,\n",
       "             enable_categorical=False, eval_metric=None, feature_types=None,\n",
       "             gamma=None, gpu_id=None, grow_policy=None, importance_type=None,\n",
       "             interaction_constraints=None, learning_rate=None, max_bin=None,\n",
       "             max_cat_threshold=None, max_cat_to_onehot=None,\n",
       "             max_delta_step=None, max_depth=None, max_leaves=None,\n",
       "             min_child_weight=None, missing=nan, monotone_constraints=None,\n",
       "             n_estimators=100, n_jobs=None, num_parallel_tree=None,\n",
       "             objective=&#x27;reg:linear&#x27;, predictor=None, ...)</pre></div></div></div></div></div></div></div></div></div></div></div></div>"
      ],
      "text/plain": [
       "GridSearchCV(cv=3,\n",
       "             estimator=Pipeline(steps=[('preprocessing',\n",
       "                                        DataFrameMapper(df_out=True,\n",
       "                                                        drop_cols=[],\n",
       "                                                        features=[(['year'],\n",
       "                                                                   SimpleImputer()),\n",
       "                                                                  (['mileage'],\n",
       "                                                                   SimpleImputer()),\n",
       "                                                                  (['tax'],\n",
       "                                                                   SimpleImputer()),\n",
       "                                                                  (['mpg'],\n",
       "                                                                   SimpleImputer()),\n",
       "                                                                  (['engineSize'],\n",
       "                                                                   SimpleImputer()),\n",
       "                                                                  (['transmission'],\n",
       "                                                                   OneHotEncoder(handle_unknown='ignore')),\n",
       "                                                                  (['brand'],\n",
       "                                                                   OneHotEncoder(handle_unknow...\n",
       "                                                     max_cat_threshold=None,\n",
       "                                                     max_cat_to_onehot=None,\n",
       "                                                     max_delta_step=None,\n",
       "                                                     max_depth=None,\n",
       "                                                     max_leaves=None,\n",
       "                                                     min_child_weight=None,\n",
       "                                                     missing=nan,\n",
       "                                                     monotone_constraints=None,\n",
       "                                                     n_estimators=100,\n",
       "                                                     n_jobs=None,\n",
       "                                                     num_parallel_tree=None,\n",
       "                                                     objective='reg:linear',\n",
       "                                                     predictor=None, ...))]),\n",
       "             n_jobs=-1,\n",
       "             param_grid={'xgb__learning_rate': [0.3], 'xgb__max_depth': [7],\n",
       "                         'xgb__n_estimators': [500, 700]},\n",
       "             verbose=2)"
      ]
     },
     "execution_count": 31,
     "metadata": {},
     "output_type": "execute_result"
    }
   ],
   "source": [
    "%%time\n",
    "grid_search.fit(X_train, y_train)"
   ]
  },
  {
   "cell_type": "code",
   "execution_count": 32,
   "id": "cb11f8a2",
   "metadata": {},
   "outputs": [
    {
     "data": {
      "text/plain": [
       "{'xgb__learning_rate': 0.3, 'xgb__max_depth': 7, 'xgb__n_estimators': 500}"
      ]
     },
     "execution_count": 32,
     "metadata": {},
     "output_type": "execute_result"
    }
   ],
   "source": [
    "grid_search.best_params_"
   ]
  },
  {
   "cell_type": "markdown",
   "id": "8d29f3f7",
   "metadata": {},
   "source": [
    "**Conclusion:** `best_params_` are `xgb__learning_rate`: 0.3, `xgb__max_depth`: 7, `xgb__n_estimators`: 500."
   ]
  },
  {
   "cell_type": "markdown",
   "id": "f6b961b1",
   "metadata": {},
   "source": [
    "## 3.2. RandomSearch"
   ]
  },
  {
   "cell_type": "markdown",
   "id": "60e59e26",
   "metadata": {},
   "source": [
    "**Note:** Let's try `RandomizedSearchCV()` method as an alternative to find out optimal parameters for the pipeline. "
   ]
  },
  {
   "cell_type": "code",
   "execution_count": 23,
   "id": "b983a24a",
   "metadata": {},
   "outputs": [
    {
     "data": {
      "text/plain": [
       "{'xgb__learning_rate': <scipy.stats._distn_infrastructure.rv_frozen at 0x7f7e8f7b4be0>,\n",
       " 'xgb__n_estimators': <scipy.stats._distn_infrastructure.rv_frozen at 0x7f7e8f917ca0>,\n",
       " 'xgb__max_depth': <scipy.stats._distn_infrastructure.rv_frozen at 0x7f7e904320d0>}"
      ]
     },
     "execution_count": 23,
     "metadata": {},
     "output_type": "execute_result"
    }
   ],
   "source": [
    "param_grid = {'xgb__learning_rate': sp_randFloat(),\n",
    "              'xgb__n_estimators' : sp_randInt(100, 1000),\n",
    "              'xgb__max_depth'    : sp_randInt(4, 10)}\n",
    "param_grid"
   ]
  },
  {
   "cell_type": "code",
   "execution_count": 42,
   "id": "919ff4f4",
   "metadata": {},
   "outputs": [],
   "source": [
    "random_search = RandomizedSearchCV(estimator=pipeline, param_distributions = param_grid,\n",
    "                               cv = 2, n_iter = 10, n_jobs=-1)"
   ]
  },
  {
   "cell_type": "code",
   "execution_count": 43,
   "id": "ef2fd110",
   "metadata": {},
   "outputs": [
    {
     "name": "stdout",
     "output_type": "stream",
     "text": [
      "[00:43:00] WARNING: /Users/runner/work/xgboost/xgboost/python-package/build/temp.macosx-10.9-x86_64-cpython-38/xgboost/src/objective/regression_obj.cu:213: reg:linear is now deprecated in favor of reg:squarederror.\n",
      "[23:57:21] WARNING: /Users/runner/work/xgboost/xgboost/python-package/build/temp.macosx-10.9-x86_64-cpython-38/xgboost/src/objective/regression_obj.cu:213: reg:linear is now deprecated in favor of reg:squarederror.\n",
      "[00:02:39] WARNING: /Users/runner/work/xgboost/xgboost/python-package/build/temp.macosx-10.9-x86_64-cpython-38/xgboost/src/objective/regression_obj.cu:213: reg:linear is now deprecated in favor of reg:squarederror.\n",
      "[00:10:32] WARNING: /Users/runner/work/xgboost/xgboost/python-package/build/temp.macosx-10.9-x86_64-cpython-38/xgboost/src/objective/regression_obj.cu:213: reg:linear is now deprecated in favor of reg:squarederror.\n",
      "[00:21:45] WARNING: /Users/runner/work/xgboost/xgboost/python-package/build/temp.macosx-10.9-x86_64-cpython-38/xgboost/src/objective/regression_obj.cu:213: reg:linear is now deprecated in favor of reg:squarederror.\n",
      "[00:37:55] WARNING: /Users/runner/work/xgboost/xgboost/python-package/build/temp.macosx-10.9-x86_64-cpython-38/xgboost/src/objective/regression_obj.cu:213: reg:linear is now deprecated in favor of reg:squarederror.\n",
      "[23:57:22] WARNING: /Users/runner/work/xgboost/xgboost/python-package/build/temp.macosx-10.9-x86_64-cpython-38/xgboost/src/objective/regression_obj.cu:213: reg:linear is now deprecated in favor of reg:squarederror.\n",
      "[00:10:53] WARNING: /Users/runner/work/xgboost/xgboost/python-package/build/temp.macosx-10.9-x86_64-cpython-38/xgboost/src/objective/regression_obj.cu:213: reg:linear is now deprecated in favor of reg:squarederror.\n",
      "[00:21:06] WARNING: /Users/runner/work/xgboost/xgboost/python-package/build/temp.macosx-10.9-x86_64-cpython-38/xgboost/src/objective/regression_obj.cu:213: reg:linear is now deprecated in favor of reg:squarederror.\n",
      "[00:26:32] WARNING: /Users/runner/work/xgboost/xgboost/python-package/build/temp.macosx-10.9-x86_64-cpython-38/xgboost/src/objective/regression_obj.cu:213: reg:linear is now deprecated in favor of reg:squarederror.\n",
      "[23:57:21] WARNING: /Users/runner/work/xgboost/xgboost/python-package/build/temp.macosx-10.9-x86_64-cpython-38/xgboost/src/objective/regression_obj.cu:213: reg:linear is now deprecated in favor of reg:squarederror.\n",
      "[00:02:33] WARNING: /Users/runner/work/xgboost/xgboost/python-package/build/temp.macosx-10.9-x86_64-cpython-38/xgboost/src/objective/regression_obj.cu:213: reg:linear is now deprecated in favor of reg:squarederror.\n",
      "[00:10:16] WARNING: /Users/runner/work/xgboost/xgboost/python-package/build/temp.macosx-10.9-x86_64-cpython-38/xgboost/src/objective/regression_obj.cu:213: reg:linear is now deprecated in favor of reg:squarederror.\n",
      "[00:21:15] WARNING: /Users/runner/work/xgboost/xgboost/python-package/build/temp.macosx-10.9-x86_64-cpython-38/xgboost/src/objective/regression_obj.cu:213: reg:linear is now deprecated in favor of reg:squarederror.\n",
      "[00:37:04] WARNING: /Users/runner/work/xgboost/xgboost/python-package/build/temp.macosx-10.9-x86_64-cpython-38/xgboost/src/objective/regression_obj.cu:213: reg:linear is now deprecated in favor of reg:squarederror.\n",
      "[00:39:30] WARNING: /Users/runner/work/xgboost/xgboost/python-package/build/temp.macosx-10.9-x86_64-cpython-38/xgboost/src/objective/regression_obj.cu:213: reg:linear is now deprecated in favor of reg:squarederror.\n",
      "[23:57:21] WARNING: /Users/runner/work/xgboost/xgboost/python-package/build/temp.macosx-10.9-x86_64-cpython-38/xgboost/src/objective/regression_obj.cu:213: reg:linear is now deprecated in favor of reg:squarederror.\n",
      "[00:10:36] WARNING: /Users/runner/work/xgboost/xgboost/python-package/build/temp.macosx-10.9-x86_64-cpython-38/xgboost/src/objective/regression_obj.cu:213: reg:linear is now deprecated in favor of reg:squarederror.\n",
      "[00:20:37] WARNING: /Users/runner/work/xgboost/xgboost/python-package/build/temp.macosx-10.9-x86_64-cpython-38/xgboost/src/objective/regression_obj.cu:213: reg:linear is now deprecated in favor of reg:squarederror.\n",
      "[00:25:52] WARNING: /Users/runner/work/xgboost/xgboost/python-package/build/temp.macosx-10.9-x86_64-cpython-38/xgboost/src/objective/regression_obj.cu:213: reg:linear is now deprecated in favor of reg:squarederror.\n",
      "[00:39:40] WARNING: /Users/runner/work/xgboost/xgboost/python-package/build/temp.macosx-10.9-x86_64-cpython-38/xgboost/src/objective/regression_obj.cu:213: reg:linear is now deprecated in favor of reg:squarederror.\n",
      "CPU times: user 30min 20s, sys: 9.45 s, total: 30min 29s\n",
      "Wall time: 54min 29s\n"
     ]
    },
    {
     "data": {
      "text/html": [
       "<style>#sk-container-id-6 {color: black;background-color: white;}#sk-container-id-6 pre{padding: 0;}#sk-container-id-6 div.sk-toggleable {background-color: white;}#sk-container-id-6 label.sk-toggleable__label {cursor: pointer;display: block;width: 100%;margin-bottom: 0;padding: 0.3em;box-sizing: border-box;text-align: center;}#sk-container-id-6 label.sk-toggleable__label-arrow:before {content: \"▸\";float: left;margin-right: 0.25em;color: #696969;}#sk-container-id-6 label.sk-toggleable__label-arrow:hover:before {color: black;}#sk-container-id-6 div.sk-estimator:hover label.sk-toggleable__label-arrow:before {color: black;}#sk-container-id-6 div.sk-toggleable__content {max-height: 0;max-width: 0;overflow: hidden;text-align: left;background-color: #f0f8ff;}#sk-container-id-6 div.sk-toggleable__content pre {margin: 0.2em;color: black;border-radius: 0.25em;background-color: #f0f8ff;}#sk-container-id-6 input.sk-toggleable__control:checked~div.sk-toggleable__content {max-height: 200px;max-width: 100%;overflow: auto;}#sk-container-id-6 input.sk-toggleable__control:checked~label.sk-toggleable__label-arrow:before {content: \"▾\";}#sk-container-id-6 div.sk-estimator input.sk-toggleable__control:checked~label.sk-toggleable__label {background-color: #d4ebff;}#sk-container-id-6 div.sk-label input.sk-toggleable__control:checked~label.sk-toggleable__label {background-color: #d4ebff;}#sk-container-id-6 input.sk-hidden--visually {border: 0;clip: rect(1px 1px 1px 1px);clip: rect(1px, 1px, 1px, 1px);height: 1px;margin: -1px;overflow: hidden;padding: 0;position: absolute;width: 1px;}#sk-container-id-6 div.sk-estimator {font-family: monospace;background-color: #f0f8ff;border: 1px dotted black;border-radius: 0.25em;box-sizing: border-box;margin-bottom: 0.5em;}#sk-container-id-6 div.sk-estimator:hover {background-color: #d4ebff;}#sk-container-id-6 div.sk-parallel-item::after {content: \"\";width: 100%;border-bottom: 1px solid gray;flex-grow: 1;}#sk-container-id-6 div.sk-label:hover label.sk-toggleable__label {background-color: #d4ebff;}#sk-container-id-6 div.sk-serial::before {content: \"\";position: absolute;border-left: 1px solid gray;box-sizing: border-box;top: 0;bottom: 0;left: 50%;z-index: 0;}#sk-container-id-6 div.sk-serial {display: flex;flex-direction: column;align-items: center;background-color: white;padding-right: 0.2em;padding-left: 0.2em;position: relative;}#sk-container-id-6 div.sk-item {position: relative;z-index: 1;}#sk-container-id-6 div.sk-parallel {display: flex;align-items: stretch;justify-content: center;background-color: white;position: relative;}#sk-container-id-6 div.sk-item::before, #sk-container-id-6 div.sk-parallel-item::before {content: \"\";position: absolute;border-left: 1px solid gray;box-sizing: border-box;top: 0;bottom: 0;left: 50%;z-index: -1;}#sk-container-id-6 div.sk-parallel-item {display: flex;flex-direction: column;z-index: 1;position: relative;background-color: white;}#sk-container-id-6 div.sk-parallel-item:first-child::after {align-self: flex-end;width: 50%;}#sk-container-id-6 div.sk-parallel-item:last-child::after {align-self: flex-start;width: 50%;}#sk-container-id-6 div.sk-parallel-item:only-child::after {width: 0;}#sk-container-id-6 div.sk-dashed-wrapped {border: 1px dashed gray;margin: 0 0.4em 0.5em 0.4em;box-sizing: border-box;padding-bottom: 0.4em;background-color: white;}#sk-container-id-6 div.sk-label label {font-family: monospace;font-weight: bold;display: inline-block;line-height: 1.2em;}#sk-container-id-6 div.sk-label-container {text-align: center;}#sk-container-id-6 div.sk-container {/* jupyter's `normalize.less` sets `[hidden] { display: none; }` but bootstrap.min.css set `[hidden] { display: none !important; }` so we also need the `!important` here to be able to override the default hidden behavior on the sphinx rendered scikit-learn.org. See: https://github.com/scikit-learn/scikit-learn/issues/21755 */display: inline-block !important;position: relative;}#sk-container-id-6 div.sk-text-repr-fallback {display: none;}</style><div id=\"sk-container-id-6\" class=\"sk-top-container\"><div class=\"sk-text-repr-fallback\"><pre>RandomizedSearchCV(cv=2,\n",
       "                   estimator=Pipeline(steps=[(&#x27;preprocessing&#x27;,\n",
       "                                              DataFrameMapper(df_out=True,\n",
       "                                                              drop_cols=[],\n",
       "                                                              features=[([&#x27;year&#x27;],\n",
       "                                                                         SimpleImputer()),\n",
       "                                                                        ([&#x27;mileage&#x27;],\n",
       "                                                                         SimpleImputer()),\n",
       "                                                                        ([&#x27;tax&#x27;],\n",
       "                                                                         SimpleImputer()),\n",
       "                                                                        ([&#x27;mpg&#x27;],\n",
       "                                                                         SimpleImputer()),\n",
       "                                                                        ([&#x27;engineSize&#x27;],\n",
       "                                                                         SimpleImputer()),\n",
       "                                                                        ([&#x27;transmission&#x27;],\n",
       "                                                                         OneHotEncoder(handle_unknown=&#x27;ignore&#x27;)),\n",
       "                                                                        ([&#x27;brand&#x27;],\n",
       "                                                                         OneHotEncoder(handle_...\n",
       "                                                           num_parallel_tree=None,\n",
       "                                                           objective=&#x27;reg:linear&#x27;,\n",
       "                                                           predictor=None, ...))]),\n",
       "                   n_jobs=-1,\n",
       "                   param_distributions={&#x27;xgb__learning_rate&#x27;: &lt;scipy.stats._distn_infrastructure.rv_frozen object at 0x7fd516a4bb20&gt;,\n",
       "                                        &#x27;xgb__max_depth&#x27;: &lt;scipy.stats._distn_infrastructure.rv_frozen object at 0x7fd516a4b190&gt;,\n",
       "                                        &#x27;xgb__n_estimators&#x27;: &lt;scipy.stats._distn_infrastructure.rv_frozen object at 0x7fd516a6b070&gt;})</pre><b>In a Jupyter environment, please rerun this cell to show the HTML representation or trust the notebook. <br />On GitHub, the HTML representation is unable to render, please try loading this page with nbviewer.org.</b></div><div class=\"sk-container\" hidden><div class=\"sk-item sk-dashed-wrapped\"><div class=\"sk-label-container\"><div class=\"sk-label sk-toggleable\"><input class=\"sk-toggleable__control sk-hidden--visually\" id=\"sk-estimator-id-22\" type=\"checkbox\" ><label for=\"sk-estimator-id-22\" class=\"sk-toggleable__label sk-toggleable__label-arrow\">RandomizedSearchCV</label><div class=\"sk-toggleable__content\"><pre>RandomizedSearchCV(cv=2,\n",
       "                   estimator=Pipeline(steps=[(&#x27;preprocessing&#x27;,\n",
       "                                              DataFrameMapper(df_out=True,\n",
       "                                                              drop_cols=[],\n",
       "                                                              features=[([&#x27;year&#x27;],\n",
       "                                                                         SimpleImputer()),\n",
       "                                                                        ([&#x27;mileage&#x27;],\n",
       "                                                                         SimpleImputer()),\n",
       "                                                                        ([&#x27;tax&#x27;],\n",
       "                                                                         SimpleImputer()),\n",
       "                                                                        ([&#x27;mpg&#x27;],\n",
       "                                                                         SimpleImputer()),\n",
       "                                                                        ([&#x27;engineSize&#x27;],\n",
       "                                                                         SimpleImputer()),\n",
       "                                                                        ([&#x27;transmission&#x27;],\n",
       "                                                                         OneHotEncoder(handle_unknown=&#x27;ignore&#x27;)),\n",
       "                                                                        ([&#x27;brand&#x27;],\n",
       "                                                                         OneHotEncoder(handle_...\n",
       "                                                           num_parallel_tree=None,\n",
       "                                                           objective=&#x27;reg:linear&#x27;,\n",
       "                                                           predictor=None, ...))]),\n",
       "                   n_jobs=-1,\n",
       "                   param_distributions={&#x27;xgb__learning_rate&#x27;: &lt;scipy.stats._distn_infrastructure.rv_frozen object at 0x7fd516a4bb20&gt;,\n",
       "                                        &#x27;xgb__max_depth&#x27;: &lt;scipy.stats._distn_infrastructure.rv_frozen object at 0x7fd516a4b190&gt;,\n",
       "                                        &#x27;xgb__n_estimators&#x27;: &lt;scipy.stats._distn_infrastructure.rv_frozen object at 0x7fd516a6b070&gt;})</pre></div></div></div><div class=\"sk-parallel\"><div class=\"sk-parallel-item\"><div class=\"sk-item\"><div class=\"sk-label-container\"><div class=\"sk-label sk-toggleable\"><input class=\"sk-toggleable__control sk-hidden--visually\" id=\"sk-estimator-id-23\" type=\"checkbox\" ><label for=\"sk-estimator-id-23\" class=\"sk-toggleable__label sk-toggleable__label-arrow\">estimator: Pipeline</label><div class=\"sk-toggleable__content\"><pre>Pipeline(steps=[(&#x27;preprocessing&#x27;,\n",
       "                 DataFrameMapper(df_out=True, drop_cols=[],\n",
       "                                 features=[([&#x27;year&#x27;], SimpleImputer()),\n",
       "                                           ([&#x27;mileage&#x27;], SimpleImputer()),\n",
       "                                           ([&#x27;tax&#x27;], SimpleImputer()),\n",
       "                                           ([&#x27;mpg&#x27;], SimpleImputer()),\n",
       "                                           ([&#x27;engineSize&#x27;], SimpleImputer()),\n",
       "                                           ([&#x27;transmission&#x27;],\n",
       "                                            OneHotEncoder(handle_unknown=&#x27;ignore&#x27;)),\n",
       "                                           ([&#x27;brand&#x27;],\n",
       "                                            OneHotEncoder(handle_unknown=&#x27;ignore&#x27;)),\n",
       "                                           ([&#x27;model&#x27;],\n",
       "                                            OneH...\n",
       "                              grow_policy=None, importance_type=None,\n",
       "                              interaction_constraints=None, learning_rate=None,\n",
       "                              max_bin=None, max_cat_threshold=None,\n",
       "                              max_cat_to_onehot=None, max_delta_step=None,\n",
       "                              max_depth=None, max_leaves=None,\n",
       "                              min_child_weight=None, missing=nan,\n",
       "                              monotone_constraints=None, n_estimators=100,\n",
       "                              n_jobs=None, num_parallel_tree=None,\n",
       "                              objective=&#x27;reg:linear&#x27;, predictor=None, ...))])</pre></div></div></div><div class=\"sk-serial\"><div class=\"sk-item\"><div class=\"sk-serial\"><div class=\"sk-item\"><div class=\"sk-estimator sk-toggleable\"><input class=\"sk-toggleable__control sk-hidden--visually\" id=\"sk-estimator-id-24\" type=\"checkbox\" ><label for=\"sk-estimator-id-24\" class=\"sk-toggleable__label sk-toggleable__label-arrow\">DataFrameMapper</label><div class=\"sk-toggleable__content\"><pre>DataFrameMapper(df_out=True, drop_cols=[],\n",
       "                features=[([&#x27;year&#x27;], SimpleImputer()),\n",
       "                          ([&#x27;mileage&#x27;], SimpleImputer()),\n",
       "                          ([&#x27;tax&#x27;], SimpleImputer()),\n",
       "                          ([&#x27;mpg&#x27;], SimpleImputer()),\n",
       "                          ([&#x27;engineSize&#x27;], SimpleImputer()),\n",
       "                          ([&#x27;transmission&#x27;],\n",
       "                           OneHotEncoder(handle_unknown=&#x27;ignore&#x27;)),\n",
       "                          ([&#x27;brand&#x27;], OneHotEncoder(handle_unknown=&#x27;ignore&#x27;)),\n",
       "                          ([&#x27;model&#x27;], OneHotEncoder(handle_unknown=&#x27;ignore&#x27;)),\n",
       "                          ([&#x27;fuelType&#x27;],\n",
       "                           OneHotEncoder(handle_unknown=&#x27;ignore&#x27;))])</pre></div></div></div><div class=\"sk-item\"><div class=\"sk-estimator sk-toggleable\"><input class=\"sk-toggleable__control sk-hidden--visually\" id=\"sk-estimator-id-25\" type=\"checkbox\" ><label for=\"sk-estimator-id-25\" class=\"sk-toggleable__label sk-toggleable__label-arrow\">StandardScaler</label><div class=\"sk-toggleable__content\"><pre>StandardScaler()</pre></div></div></div><div class=\"sk-item\"><div class=\"sk-estimator sk-toggleable\"><input class=\"sk-toggleable__control sk-hidden--visually\" id=\"sk-estimator-id-26\" type=\"checkbox\" ><label for=\"sk-estimator-id-26\" class=\"sk-toggleable__label sk-toggleable__label-arrow\">XGBRegressor</label><div class=\"sk-toggleable__content\"><pre>XGBRegressor(base_score=None, booster=None, callbacks=None,\n",
       "             colsample_bylevel=None, colsample_bynode=None,\n",
       "             colsample_bytree=None, early_stopping_rounds=None,\n",
       "             enable_categorical=False, eval_metric=None, feature_types=None,\n",
       "             gamma=None, gpu_id=None, grow_policy=None, importance_type=None,\n",
       "             interaction_constraints=None, learning_rate=None, max_bin=None,\n",
       "             max_cat_threshold=None, max_cat_to_onehot=None,\n",
       "             max_delta_step=None, max_depth=None, max_leaves=None,\n",
       "             min_child_weight=None, missing=nan, monotone_constraints=None,\n",
       "             n_estimators=100, n_jobs=None, num_parallel_tree=None,\n",
       "             objective=&#x27;reg:linear&#x27;, predictor=None, ...)</pre></div></div></div></div></div></div></div></div></div></div></div></div>"
      ],
      "text/plain": [
       "RandomizedSearchCV(cv=2,\n",
       "                   estimator=Pipeline(steps=[('preprocessing',\n",
       "                                              DataFrameMapper(df_out=True,\n",
       "                                                              drop_cols=[],\n",
       "                                                              features=[(['year'],\n",
       "                                                                         SimpleImputer()),\n",
       "                                                                        (['mileage'],\n",
       "                                                                         SimpleImputer()),\n",
       "                                                                        (['tax'],\n",
       "                                                                         SimpleImputer()),\n",
       "                                                                        (['mpg'],\n",
       "                                                                         SimpleImputer()),\n",
       "                                                                        (['engineSize'],\n",
       "                                                                         SimpleImputer()),\n",
       "                                                                        (['transmission'],\n",
       "                                                                         OneHotEncoder(handle_unknown='ignore')),\n",
       "                                                                        (['brand'],\n",
       "                                                                         OneHotEncoder(handle_...\n",
       "                                                           num_parallel_tree=None,\n",
       "                                                           objective='reg:linear',\n",
       "                                                           predictor=None, ...))]),\n",
       "                   n_jobs=-1,\n",
       "                   param_distributions={'xgb__learning_rate': <scipy.stats._distn_infrastructure.rv_frozen object at 0x7fd516a4bb20>,\n",
       "                                        'xgb__max_depth': <scipy.stats._distn_infrastructure.rv_frozen object at 0x7fd516a4b190>,\n",
       "                                        'xgb__n_estimators': <scipy.stats._distn_infrastructure.rv_frozen object at 0x7fd516a6b070>})"
      ]
     },
     "execution_count": 43,
     "metadata": {},
     "output_type": "execute_result"
    }
   ],
   "source": [
    "%%time\n",
    "random_search.fit(X_train, y_train)"
   ]
  },
  {
   "cell_type": "code",
   "execution_count": 44,
   "id": "d131d825",
   "metadata": {},
   "outputs": [
    {
     "data": {
      "text/plain": [
       "{'xgb__learning_rate': 0.1245908942211651,\n",
       " 'xgb__max_depth': 6,\n",
       " 'xgb__n_estimators': 949}"
      ]
     },
     "execution_count": 44,
     "metadata": {},
     "output_type": "execute_result"
    }
   ],
   "source": [
    "random_search.best_params_"
   ]
  },
  {
   "cell_type": "markdown",
   "id": "b8c48fee",
   "metadata": {},
   "source": [
    "**Conclusion:** `best_params_` are `xgb__learning_rate`: 0.1245908942211651, `xgb__max_depth`: 6, `xgb__n_estimators`: 949. Unfortunately, evaluation metrics are a bit worse:\n",
    "* LR RMSE train = 1410.647\n",
    "* LR MAPE train = 0.062\n",
    "* LR MAPE train = 0.062040872565346745\n",
    "* LR SCORE = 0.979\n",
    "-----\n",
    "* LR RMSE test = 1937.712\n",
    "* LR MAPE test = 0.072\n",
    "* LR MAPE test = 0.0717721594943187\n",
    "* LR SCORE = 0.961\n",
    "\n",
    "Let's put in the pipeline `best_params_`: `xgb__learning_rate`: 0.3, `xgb__max_depth`: 7, `xgb__n_estimators`: 500."
   ]
  },
  {
   "cell_type": "markdown",
   "id": "3d55fd8a",
   "metadata": {},
   "source": [
    "## 3.3. `.fit(X_train, y_train)`"
   ]
  },
  {
   "cell_type": "code",
   "execution_count": 35,
   "id": "5d7864e6",
   "metadata": {},
   "outputs": [
    {
     "name": "stdout",
     "output_type": "stream",
     "text": [
      "[19:44:32] WARNING: /Users/runner/work/xgboost/xgboost/python-package/build/temp.macosx-10.9-x86_64-cpython-38/xgboost/src/objective/regression_obj.cu:213: reg:linear is now deprecated in favor of reg:squarederror.\n",
      "CPU times: user 19min 6s, sys: 7.4 s, total: 19min 13s\n",
      "Wall time: 5min 40s\n"
     ]
    },
    {
     "data": {
      "text/html": [
       "<style>#sk-container-id-3 {color: black;background-color: white;}#sk-container-id-3 pre{padding: 0;}#sk-container-id-3 div.sk-toggleable {background-color: white;}#sk-container-id-3 label.sk-toggleable__label {cursor: pointer;display: block;width: 100%;margin-bottom: 0;padding: 0.3em;box-sizing: border-box;text-align: center;}#sk-container-id-3 label.sk-toggleable__label-arrow:before {content: \"▸\";float: left;margin-right: 0.25em;color: #696969;}#sk-container-id-3 label.sk-toggleable__label-arrow:hover:before {color: black;}#sk-container-id-3 div.sk-estimator:hover label.sk-toggleable__label-arrow:before {color: black;}#sk-container-id-3 div.sk-toggleable__content {max-height: 0;max-width: 0;overflow: hidden;text-align: left;background-color: #f0f8ff;}#sk-container-id-3 div.sk-toggleable__content pre {margin: 0.2em;color: black;border-radius: 0.25em;background-color: #f0f8ff;}#sk-container-id-3 input.sk-toggleable__control:checked~div.sk-toggleable__content {max-height: 200px;max-width: 100%;overflow: auto;}#sk-container-id-3 input.sk-toggleable__control:checked~label.sk-toggleable__label-arrow:before {content: \"▾\";}#sk-container-id-3 div.sk-estimator input.sk-toggleable__control:checked~label.sk-toggleable__label {background-color: #d4ebff;}#sk-container-id-3 div.sk-label input.sk-toggleable__control:checked~label.sk-toggleable__label {background-color: #d4ebff;}#sk-container-id-3 input.sk-hidden--visually {border: 0;clip: rect(1px 1px 1px 1px);clip: rect(1px, 1px, 1px, 1px);height: 1px;margin: -1px;overflow: hidden;padding: 0;position: absolute;width: 1px;}#sk-container-id-3 div.sk-estimator {font-family: monospace;background-color: #f0f8ff;border: 1px dotted black;border-radius: 0.25em;box-sizing: border-box;margin-bottom: 0.5em;}#sk-container-id-3 div.sk-estimator:hover {background-color: #d4ebff;}#sk-container-id-3 div.sk-parallel-item::after {content: \"\";width: 100%;border-bottom: 1px solid gray;flex-grow: 1;}#sk-container-id-3 div.sk-label:hover label.sk-toggleable__label {background-color: #d4ebff;}#sk-container-id-3 div.sk-serial::before {content: \"\";position: absolute;border-left: 1px solid gray;box-sizing: border-box;top: 0;bottom: 0;left: 50%;z-index: 0;}#sk-container-id-3 div.sk-serial {display: flex;flex-direction: column;align-items: center;background-color: white;padding-right: 0.2em;padding-left: 0.2em;position: relative;}#sk-container-id-3 div.sk-item {position: relative;z-index: 1;}#sk-container-id-3 div.sk-parallel {display: flex;align-items: stretch;justify-content: center;background-color: white;position: relative;}#sk-container-id-3 div.sk-item::before, #sk-container-id-3 div.sk-parallel-item::before {content: \"\";position: absolute;border-left: 1px solid gray;box-sizing: border-box;top: 0;bottom: 0;left: 50%;z-index: -1;}#sk-container-id-3 div.sk-parallel-item {display: flex;flex-direction: column;z-index: 1;position: relative;background-color: white;}#sk-container-id-3 div.sk-parallel-item:first-child::after {align-self: flex-end;width: 50%;}#sk-container-id-3 div.sk-parallel-item:last-child::after {align-self: flex-start;width: 50%;}#sk-container-id-3 div.sk-parallel-item:only-child::after {width: 0;}#sk-container-id-3 div.sk-dashed-wrapped {border: 1px dashed gray;margin: 0 0.4em 0.5em 0.4em;box-sizing: border-box;padding-bottom: 0.4em;background-color: white;}#sk-container-id-3 div.sk-label label {font-family: monospace;font-weight: bold;display: inline-block;line-height: 1.2em;}#sk-container-id-3 div.sk-label-container {text-align: center;}#sk-container-id-3 div.sk-container {/* jupyter's `normalize.less` sets `[hidden] { display: none; }` but bootstrap.min.css set `[hidden] { display: none !important; }` so we also need the `!important` here to be able to override the default hidden behavior on the sphinx rendered scikit-learn.org. See: https://github.com/scikit-learn/scikit-learn/issues/21755 */display: inline-block !important;position: relative;}#sk-container-id-3 div.sk-text-repr-fallback {display: none;}</style><div id=\"sk-container-id-3\" class=\"sk-top-container\"><div class=\"sk-text-repr-fallback\"><pre>Pipeline(steps=[(&#x27;preprocessing&#x27;,\n",
       "                 DataFrameMapper(df_out=True, drop_cols=[],\n",
       "                                 features=[([&#x27;year&#x27;], SimpleImputer()),\n",
       "                                           ([&#x27;mileage&#x27;], SimpleImputer()),\n",
       "                                           ([&#x27;tax&#x27;], SimpleImputer()),\n",
       "                                           ([&#x27;mpg&#x27;], SimpleImputer()),\n",
       "                                           ([&#x27;engineSize&#x27;], SimpleImputer()),\n",
       "                                           ([&#x27;transmission&#x27;],\n",
       "                                            OneHotEncoder(handle_unknown=&#x27;ignore&#x27;)),\n",
       "                                           ([&#x27;brand&#x27;],\n",
       "                                            OneHotEncoder(handle_unknown=&#x27;ignore&#x27;)),\n",
       "                                           ([&#x27;model&#x27;],\n",
       "                                            OneH...\n",
       "                              eval_metric=None, feature_types=None, gamma=None,\n",
       "                              gpu_id=None, grow_policy=None,\n",
       "                              importance_type=None,\n",
       "                              interaction_constraints=None, learning_rate=None,\n",
       "                              max_bin=None, max_cat_threshold=None,\n",
       "                              max_cat_to_onehot=None, max_delta_step=None,\n",
       "                              max_depth=7, max_leaves=None,\n",
       "                              min_child_weight=None, missing=nan,\n",
       "                              monotone_constraints=None, n_estimators=500,\n",
       "                              n_jobs=None, num_parallel_tree=None,\n",
       "                              objective=&#x27;reg:linear&#x27;, ...))])</pre><b>In a Jupyter environment, please rerun this cell to show the HTML representation or trust the notebook. <br />On GitHub, the HTML representation is unable to render, please try loading this page with nbviewer.org.</b></div><div class=\"sk-container\" hidden><div class=\"sk-item sk-dashed-wrapped\"><div class=\"sk-label-container\"><div class=\"sk-label sk-toggleable\"><input class=\"sk-toggleable__control sk-hidden--visually\" id=\"sk-estimator-id-9\" type=\"checkbox\" ><label for=\"sk-estimator-id-9\" class=\"sk-toggleable__label sk-toggleable__label-arrow\">Pipeline</label><div class=\"sk-toggleable__content\"><pre>Pipeline(steps=[(&#x27;preprocessing&#x27;,\n",
       "                 DataFrameMapper(df_out=True, drop_cols=[],\n",
       "                                 features=[([&#x27;year&#x27;], SimpleImputer()),\n",
       "                                           ([&#x27;mileage&#x27;], SimpleImputer()),\n",
       "                                           ([&#x27;tax&#x27;], SimpleImputer()),\n",
       "                                           ([&#x27;mpg&#x27;], SimpleImputer()),\n",
       "                                           ([&#x27;engineSize&#x27;], SimpleImputer()),\n",
       "                                           ([&#x27;transmission&#x27;],\n",
       "                                            OneHotEncoder(handle_unknown=&#x27;ignore&#x27;)),\n",
       "                                           ([&#x27;brand&#x27;],\n",
       "                                            OneHotEncoder(handle_unknown=&#x27;ignore&#x27;)),\n",
       "                                           ([&#x27;model&#x27;],\n",
       "                                            OneH...\n",
       "                              eval_metric=None, feature_types=None, gamma=None,\n",
       "                              gpu_id=None, grow_policy=None,\n",
       "                              importance_type=None,\n",
       "                              interaction_constraints=None, learning_rate=None,\n",
       "                              max_bin=None, max_cat_threshold=None,\n",
       "                              max_cat_to_onehot=None, max_delta_step=None,\n",
       "                              max_depth=7, max_leaves=None,\n",
       "                              min_child_weight=None, missing=nan,\n",
       "                              monotone_constraints=None, n_estimators=500,\n",
       "                              n_jobs=None, num_parallel_tree=None,\n",
       "                              objective=&#x27;reg:linear&#x27;, ...))])</pre></div></div></div><div class=\"sk-serial\"><div class=\"sk-item\"><div class=\"sk-estimator sk-toggleable\"><input class=\"sk-toggleable__control sk-hidden--visually\" id=\"sk-estimator-id-10\" type=\"checkbox\" ><label for=\"sk-estimator-id-10\" class=\"sk-toggleable__label sk-toggleable__label-arrow\">DataFrameMapper</label><div class=\"sk-toggleable__content\"><pre>DataFrameMapper(df_out=True, drop_cols=[],\n",
       "                features=[([&#x27;year&#x27;], SimpleImputer()),\n",
       "                          ([&#x27;mileage&#x27;], SimpleImputer()),\n",
       "                          ([&#x27;tax&#x27;], SimpleImputer()),\n",
       "                          ([&#x27;mpg&#x27;], SimpleImputer()),\n",
       "                          ([&#x27;engineSize&#x27;], SimpleImputer()),\n",
       "                          ([&#x27;transmission&#x27;],\n",
       "                           OneHotEncoder(handle_unknown=&#x27;ignore&#x27;)),\n",
       "                          ([&#x27;brand&#x27;], OneHotEncoder(handle_unknown=&#x27;ignore&#x27;)),\n",
       "                          ([&#x27;model&#x27;], OneHotEncoder(handle_unknown=&#x27;ignore&#x27;)),\n",
       "                          ([&#x27;fuelType&#x27;],\n",
       "                           OneHotEncoder(handle_unknown=&#x27;ignore&#x27;))])</pre></div></div></div><div class=\"sk-item\"><div class=\"sk-estimator sk-toggleable\"><input class=\"sk-toggleable__control sk-hidden--visually\" id=\"sk-estimator-id-11\" type=\"checkbox\" ><label for=\"sk-estimator-id-11\" class=\"sk-toggleable__label sk-toggleable__label-arrow\">StandardScaler</label><div class=\"sk-toggleable__content\"><pre>StandardScaler()</pre></div></div></div><div class=\"sk-item\"><div class=\"sk-estimator sk-toggleable\"><input class=\"sk-toggleable__control sk-hidden--visually\" id=\"sk-estimator-id-12\" type=\"checkbox\" ><label for=\"sk-estimator-id-12\" class=\"sk-toggleable__label sk-toggleable__label-arrow\">XGBRegressor</label><div class=\"sk-toggleable__content\"><pre>XGBRegressor(base_score=None, booster=None, callbacks=None,\n",
       "             colsample_bylevel=None, colsample_bynode=None,\n",
       "             colsample_bytree=None, early_stopping_rounds=None,\n",
       "             enable_categorical=False, eta=0.3, eval_metric=None,\n",
       "             feature_types=None, gamma=None, gpu_id=None, grow_policy=None,\n",
       "             importance_type=None, interaction_constraints=None,\n",
       "             learning_rate=None, max_bin=None, max_cat_threshold=None,\n",
       "             max_cat_to_onehot=None, max_delta_step=None, max_depth=7,\n",
       "             max_leaves=None, min_child_weight=None, missing=nan,\n",
       "             monotone_constraints=None, n_estimators=500, n_jobs=None,\n",
       "             num_parallel_tree=None, objective=&#x27;reg:linear&#x27;, ...)</pre></div></div></div></div></div></div></div>"
      ],
      "text/plain": [
       "Pipeline(steps=[('preprocessing',\n",
       "                 DataFrameMapper(df_out=True, drop_cols=[],\n",
       "                                 features=[(['year'], SimpleImputer()),\n",
       "                                           (['mileage'], SimpleImputer()),\n",
       "                                           (['tax'], SimpleImputer()),\n",
       "                                           (['mpg'], SimpleImputer()),\n",
       "                                           (['engineSize'], SimpleImputer()),\n",
       "                                           (['transmission'],\n",
       "                                            OneHotEncoder(handle_unknown='ignore')),\n",
       "                                           (['brand'],\n",
       "                                            OneHotEncoder(handle_unknown='ignore')),\n",
       "                                           (['model'],\n",
       "                                            OneH...\n",
       "                              eval_metric=None, feature_types=None, gamma=None,\n",
       "                              gpu_id=None, grow_policy=None,\n",
       "                              importance_type=None,\n",
       "                              interaction_constraints=None, learning_rate=None,\n",
       "                              max_bin=None, max_cat_threshold=None,\n",
       "                              max_cat_to_onehot=None, max_delta_step=None,\n",
       "                              max_depth=7, max_leaves=None,\n",
       "                              min_child_weight=None, missing=nan,\n",
       "                              monotone_constraints=None, n_estimators=500,\n",
       "                              n_jobs=None, num_parallel_tree=None,\n",
       "                              objective='reg:linear', ...))])"
      ]
     },
     "execution_count": 35,
     "metadata": {},
     "output_type": "execute_result"
    }
   ],
   "source": [
    "%%time\n",
    "pipeline.fit(X_train, y_train)"
   ]
  },
  {
   "cell_type": "markdown",
   "id": "e0c8a5c6",
   "metadata": {},
   "source": [
    "# 4. Evaluation of the model"
   ]
  },
  {
   "cell_type": "markdown",
   "id": "d8f9b396",
   "metadata": {},
   "source": [
    "## 4.1. Evaluation on the Train Sample"
   ]
  },
  {
   "cell_type": "code",
   "execution_count": 36,
   "id": "a954c264",
   "metadata": {},
   "outputs": [
    {
     "name": "stdout",
     "output_type": "stream",
     "text": [
      "LR RMSE train = 1130.136\n",
      "LR MAPE train = 0.05238567945433896\n",
      "LR SCORE = 0.986\n"
     ]
    }
   ],
   "source": [
    "lr_train_pred = pipeline.predict(X_train)\n",
    "lr_rmse = mean_squared_error(y_true=y_train, y_pred = lr_train_pred, squared=False)\n",
    "lr_mape = mean_absolute_percentage_error(y_true=y_train, y_pred=lr_train_pred)\n",
    "\n",
    "print (f'LR RMSE train = {round(lr_rmse, 3)}')\n",
    "print (f'LR MAPE train = {lr_mape}')\n",
    "print (f'LR SCORE = {round(pipeline.score(X_train, y_train), 3)}')"
   ]
  },
  {
   "cell_type": "code",
   "execution_count": 37,
   "id": "b3c7c6cf",
   "metadata": {},
   "outputs": [
    {
     "data": {
      "image/png": "[encoded data removed]",
      "text/plain": [
       "<Figure size 432x288 with 1 Axes>"
      ]
     },
     "metadata": {
      "image/png": {
       "height": 261,
       "width": 403
      }
     },
     "output_type": "display_data"
    }
   ],
   "source": [
    "PredictionErrorDisplay.from_predictions(\n",
    "    y_train,\n",
    "    lr_train_pred,\n",
    "    kind=\"actual_vs_predicted\",\n",
    "    scatter_kwargs={\"alpha\": 0.5},\n",
    ")\n",
    "plt.show()"
   ]
  },
  {
   "cell_type": "markdown",
   "id": "a71983df",
   "metadata": {},
   "source": [
    "## 4.2. Evaluation on the Test Sample"
   ]
  },
  {
   "cell_type": "markdown",
   "id": "04967991",
   "metadata": {},
   "source": [
    "### Test Sample correction"
   ]
  },
  {
   "cell_type": "markdown",
   "id": "fabbb38b",
   "metadata": {},
   "source": [
    "**Note:** Since in the Test Sample appeared a previously unknown model `Escort`, let's replace it with the most common `model` of the `brand` `Ford` - `Focus`."
   ]
  },
  {
   "cell_type": "code",
   "execution_count": 38,
   "id": "6bcf7851",
   "metadata": {},
   "outputs": [],
   "source": [
    "X_test.loc[(X_test.model.str.lower().str.contains('escort')),'model'] = 'Focus'"
   ]
  },
  {
   "cell_type": "code",
   "execution_count": 39,
   "id": "a054aa30",
   "metadata": {},
   "outputs": [
    {
     "name": "stdout",
     "output_type": "stream",
     "text": [
      "LR RMSE test = 1924.567\n",
      "LR MAPE test = 0.07005690169341372\n",
      "LR SCORE = 0.962\n"
     ]
    }
   ],
   "source": [
    "lr_test_pred = pipeline.predict(X_test)\n",
    "lr_rmse = mean_squared_error(y_true=y_test, y_pred = lr_test_pred, squared=False)\n",
    "lr_mape = mean_absolute_percentage_error(y_true=y_test, y_pred=lr_test_pred)\n",
    "\n",
    "print (f'LR RMSE test = {round(lr_rmse, 3)}')\n",
    "print (f'LR MAPE test = {lr_mape}')\n",
    "print (f'LR SCORE = {round(pipeline.score(X_test, y_test), 3)}')"
   ]
  },
  {
   "cell_type": "code",
   "execution_count": 40,
   "id": "4c2cc629",
   "metadata": {},
   "outputs": [
    {
     "data": {
      "image/png": "[encoded data removed]",
      "text/plain": [
       "<Figure size 432x288 with 1 Axes>"
      ]
     },
     "metadata": {
      "image/png": {
       "height": 261,
       "width": 403
      }
     },
     "output_type": "display_data"
    }
   ],
   "source": [
    "PredictionErrorDisplay.from_predictions(\n",
    "    y_test,\n",
    "    lr_test_pred,\n",
    "    kind=\"actual_vs_predicted\",\n",
    "    scatter_kwargs={\"alpha\": 0.5},\n",
    ")\n",
    "plt.show()"
   ]
  },
  {
   "cell_type": "markdown",
   "id": "85debbd0",
   "metadata": {},
   "source": [
    "## 4.3. Evaluation on the Whole Sample (as a Train Sample)"
   ]
  },
  {
   "cell_type": "markdown",
   "id": "bc484c02",
   "metadata": {},
   "source": [
    "**Note:** After discovering the optinal model with optimal parameters, let's implement it on the whole available sample to train the model better."
   ]
  },
  {
   "cell_type": "markdown",
   "id": "179ba372",
   "metadata": {},
   "source": [
    "### `.fit(X, y)`"
   ]
  },
  {
   "cell_type": "code",
   "execution_count": 41,
   "id": "d3072afb",
   "metadata": {},
   "outputs": [
    {
     "name": "stdout",
     "output_type": "stream",
     "text": [
      "[19:51:08] WARNING: /Users/runner/work/xgboost/xgboost/python-package/build/temp.macosx-10.9-x86_64-cpython-38/xgboost/src/objective/regression_obj.cu:213: reg:linear is now deprecated in favor of reg:squarederror.\n",
      "CPU times: user 27min 23s, sys: 8.74 s, total: 27min 32s\n",
      "Wall time: 7min 27s\n"
     ]
    },
    {
     "data": {
      "text/html": [
       "<style>#sk-container-id-4 {color: black;background-color: white;}#sk-container-id-4 pre{padding: 0;}#sk-container-id-4 div.sk-toggleable {background-color: white;}#sk-container-id-4 label.sk-toggleable__label {cursor: pointer;display: block;width: 100%;margin-bottom: 0;padding: 0.3em;box-sizing: border-box;text-align: center;}#sk-container-id-4 label.sk-toggleable__label-arrow:before {content: \"▸\";float: left;margin-right: 0.25em;color: #696969;}#sk-container-id-4 label.sk-toggleable__label-arrow:hover:before {color: black;}#sk-container-id-4 div.sk-estimator:hover label.sk-toggleable__label-arrow:before {color: black;}#sk-container-id-4 div.sk-toggleable__content {max-height: 0;max-width: 0;overflow: hidden;text-align: left;background-color: #f0f8ff;}#sk-container-id-4 div.sk-toggleable__content pre {margin: 0.2em;color: black;border-radius: 0.25em;background-color: #f0f8ff;}#sk-container-id-4 input.sk-toggleable__control:checked~div.sk-toggleable__content {max-height: 200px;max-width: 100%;overflow: auto;}#sk-container-id-4 input.sk-toggleable__control:checked~label.sk-toggleable__label-arrow:before {content: \"▾\";}#sk-container-id-4 div.sk-estimator input.sk-toggleable__control:checked~label.sk-toggleable__label {background-color: #d4ebff;}#sk-container-id-4 div.sk-label input.sk-toggleable__control:checked~label.sk-toggleable__label {background-color: #d4ebff;}#sk-container-id-4 input.sk-hidden--visually {border: 0;clip: rect(1px 1px 1px 1px);clip: rect(1px, 1px, 1px, 1px);height: 1px;margin: -1px;overflow: hidden;padding: 0;position: absolute;width: 1px;}#sk-container-id-4 div.sk-estimator {font-family: monospace;background-color: #f0f8ff;border: 1px dotted black;border-radius: 0.25em;box-sizing: border-box;margin-bottom: 0.5em;}#sk-container-id-4 div.sk-estimator:hover {background-color: #d4ebff;}#sk-container-id-4 div.sk-parallel-item::after {content: \"\";width: 100%;border-bottom: 1px solid gray;flex-grow: 1;}#sk-container-id-4 div.sk-label:hover label.sk-toggleable__label {background-color: #d4ebff;}#sk-container-id-4 div.sk-serial::before {content: \"\";position: absolute;border-left: 1px solid gray;box-sizing: border-box;top: 0;bottom: 0;left: 50%;z-index: 0;}#sk-container-id-4 div.sk-serial {display: flex;flex-direction: column;align-items: center;background-color: white;padding-right: 0.2em;padding-left: 0.2em;position: relative;}#sk-container-id-4 div.sk-item {position: relative;z-index: 1;}#sk-container-id-4 div.sk-parallel {display: flex;align-items: stretch;justify-content: center;background-color: white;position: relative;}#sk-container-id-4 div.sk-item::before, #sk-container-id-4 div.sk-parallel-item::before {content: \"\";position: absolute;border-left: 1px solid gray;box-sizing: border-box;top: 0;bottom: 0;left: 50%;z-index: -1;}#sk-container-id-4 div.sk-parallel-item {display: flex;flex-direction: column;z-index: 1;position: relative;background-color: white;}#sk-container-id-4 div.sk-parallel-item:first-child::after {align-self: flex-end;width: 50%;}#sk-container-id-4 div.sk-parallel-item:last-child::after {align-self: flex-start;width: 50%;}#sk-container-id-4 div.sk-parallel-item:only-child::after {width: 0;}#sk-container-id-4 div.sk-dashed-wrapped {border: 1px dashed gray;margin: 0 0.4em 0.5em 0.4em;box-sizing: border-box;padding-bottom: 0.4em;background-color: white;}#sk-container-id-4 div.sk-label label {font-family: monospace;font-weight: bold;display: inline-block;line-height: 1.2em;}#sk-container-id-4 div.sk-label-container {text-align: center;}#sk-container-id-4 div.sk-container {/* jupyter's `normalize.less` sets `[hidden] { display: none; }` but bootstrap.min.css set `[hidden] { display: none !important; }` so we also need the `!important` here to be able to override the default hidden behavior on the sphinx rendered scikit-learn.org. See: https://github.com/scikit-learn/scikit-learn/issues/21755 */display: inline-block !important;position: relative;}#sk-container-id-4 div.sk-text-repr-fallback {display: none;}</style><div id=\"sk-container-id-4\" class=\"sk-top-container\"><div class=\"sk-text-repr-fallback\"><pre>Pipeline(steps=[(&#x27;preprocessing&#x27;,\n",
       "                 DataFrameMapper(df_out=True, drop_cols=[],\n",
       "                                 features=[([&#x27;year&#x27;], SimpleImputer()),\n",
       "                                           ([&#x27;mileage&#x27;], SimpleImputer()),\n",
       "                                           ([&#x27;tax&#x27;], SimpleImputer()),\n",
       "                                           ([&#x27;mpg&#x27;], SimpleImputer()),\n",
       "                                           ([&#x27;engineSize&#x27;], SimpleImputer()),\n",
       "                                           ([&#x27;transmission&#x27;],\n",
       "                                            OneHotEncoder(handle_unknown=&#x27;ignore&#x27;)),\n",
       "                                           ([&#x27;brand&#x27;],\n",
       "                                            OneHotEncoder(handle_unknown=&#x27;ignore&#x27;)),\n",
       "                                           ([&#x27;model&#x27;],\n",
       "                                            OneH...\n",
       "                              eval_metric=None, feature_types=None, gamma=None,\n",
       "                              gpu_id=None, grow_policy=None,\n",
       "                              importance_type=None,\n",
       "                              interaction_constraints=None, learning_rate=None,\n",
       "                              max_bin=None, max_cat_threshold=None,\n",
       "                              max_cat_to_onehot=None, max_delta_step=None,\n",
       "                              max_depth=7, max_leaves=None,\n",
       "                              min_child_weight=None, missing=nan,\n",
       "                              monotone_constraints=None, n_estimators=500,\n",
       "                              n_jobs=None, num_parallel_tree=None,\n",
       "                              objective=&#x27;reg:linear&#x27;, ...))])</pre><b>In a Jupyter environment, please rerun this cell to show the HTML representation or trust the notebook. <br />On GitHub, the HTML representation is unable to render, please try loading this page with nbviewer.org.</b></div><div class=\"sk-container\" hidden><div class=\"sk-item sk-dashed-wrapped\"><div class=\"sk-label-container\"><div class=\"sk-label sk-toggleable\"><input class=\"sk-toggleable__control sk-hidden--visually\" id=\"sk-estimator-id-13\" type=\"checkbox\" ><label for=\"sk-estimator-id-13\" class=\"sk-toggleable__label sk-toggleable__label-arrow\">Pipeline</label><div class=\"sk-toggleable__content\"><pre>Pipeline(steps=[(&#x27;preprocessing&#x27;,\n",
       "                 DataFrameMapper(df_out=True, drop_cols=[],\n",
       "                                 features=[([&#x27;year&#x27;], SimpleImputer()),\n",
       "                                           ([&#x27;mileage&#x27;], SimpleImputer()),\n",
       "                                           ([&#x27;tax&#x27;], SimpleImputer()),\n",
       "                                           ([&#x27;mpg&#x27;], SimpleImputer()),\n",
       "                                           ([&#x27;engineSize&#x27;], SimpleImputer()),\n",
       "                                           ([&#x27;transmission&#x27;],\n",
       "                                            OneHotEncoder(handle_unknown=&#x27;ignore&#x27;)),\n",
       "                                           ([&#x27;brand&#x27;],\n",
       "                                            OneHotEncoder(handle_unknown=&#x27;ignore&#x27;)),\n",
       "                                           ([&#x27;model&#x27;],\n",
       "                                            OneH...\n",
       "                              eval_metric=None, feature_types=None, gamma=None,\n",
       "                              gpu_id=None, grow_policy=None,\n",
       "                              importance_type=None,\n",
       "                              interaction_constraints=None, learning_rate=None,\n",
       "                              max_bin=None, max_cat_threshold=None,\n",
       "                              max_cat_to_onehot=None, max_delta_step=None,\n",
       "                              max_depth=7, max_leaves=None,\n",
       "                              min_child_weight=None, missing=nan,\n",
       "                              monotone_constraints=None, n_estimators=500,\n",
       "                              n_jobs=None, num_parallel_tree=None,\n",
       "                              objective=&#x27;reg:linear&#x27;, ...))])</pre></div></div></div><div class=\"sk-serial\"><div class=\"sk-item\"><div class=\"sk-estimator sk-toggleable\"><input class=\"sk-toggleable__control sk-hidden--visually\" id=\"sk-estimator-id-14\" type=\"checkbox\" ><label for=\"sk-estimator-id-14\" class=\"sk-toggleable__label sk-toggleable__label-arrow\">DataFrameMapper</label><div class=\"sk-toggleable__content\"><pre>DataFrameMapper(df_out=True, drop_cols=[],\n",
       "                features=[([&#x27;year&#x27;], SimpleImputer()),\n",
       "                          ([&#x27;mileage&#x27;], SimpleImputer()),\n",
       "                          ([&#x27;tax&#x27;], SimpleImputer()),\n",
       "                          ([&#x27;mpg&#x27;], SimpleImputer()),\n",
       "                          ([&#x27;engineSize&#x27;], SimpleImputer()),\n",
       "                          ([&#x27;transmission&#x27;],\n",
       "                           OneHotEncoder(handle_unknown=&#x27;ignore&#x27;)),\n",
       "                          ([&#x27;brand&#x27;], OneHotEncoder(handle_unknown=&#x27;ignore&#x27;)),\n",
       "                          ([&#x27;model&#x27;], OneHotEncoder(handle_unknown=&#x27;ignore&#x27;)),\n",
       "                          ([&#x27;fuelType&#x27;],\n",
       "                           OneHotEncoder(handle_unknown=&#x27;ignore&#x27;))])</pre></div></div></div><div class=\"sk-item\"><div class=\"sk-estimator sk-toggleable\"><input class=\"sk-toggleable__control sk-hidden--visually\" id=\"sk-estimator-id-15\" type=\"checkbox\" ><label for=\"sk-estimator-id-15\" class=\"sk-toggleable__label sk-toggleable__label-arrow\">StandardScaler</label><div class=\"sk-toggleable__content\"><pre>StandardScaler()</pre></div></div></div><div class=\"sk-item\"><div class=\"sk-estimator sk-toggleable\"><input class=\"sk-toggleable__control sk-hidden--visually\" id=\"sk-estimator-id-16\" type=\"checkbox\" ><label for=\"sk-estimator-id-16\" class=\"sk-toggleable__label sk-toggleable__label-arrow\">XGBRegressor</label><div class=\"sk-toggleable__content\"><pre>XGBRegressor(base_score=None, booster=None, callbacks=None,\n",
       "             colsample_bylevel=None, colsample_bynode=None,\n",
       "             colsample_bytree=None, early_stopping_rounds=None,\n",
       "             enable_categorical=False, eta=0.3, eval_metric=None,\n",
       "             feature_types=None, gamma=None, gpu_id=None, grow_policy=None,\n",
       "             importance_type=None, interaction_constraints=None,\n",
       "             learning_rate=None, max_bin=None, max_cat_threshold=None,\n",
       "             max_cat_to_onehot=None, max_delta_step=None, max_depth=7,\n",
       "             max_leaves=None, min_child_weight=None, missing=nan,\n",
       "             monotone_constraints=None, n_estimators=500, n_jobs=None,\n",
       "             num_parallel_tree=None, objective=&#x27;reg:linear&#x27;, ...)</pre></div></div></div></div></div></div></div>"
      ],
      "text/plain": [
       "Pipeline(steps=[('preprocessing',\n",
       "                 DataFrameMapper(df_out=True, drop_cols=[],\n",
       "                                 features=[(['year'], SimpleImputer()),\n",
       "                                           (['mileage'], SimpleImputer()),\n",
       "                                           (['tax'], SimpleImputer()),\n",
       "                                           (['mpg'], SimpleImputer()),\n",
       "                                           (['engineSize'], SimpleImputer()),\n",
       "                                           (['transmission'],\n",
       "                                            OneHotEncoder(handle_unknown='ignore')),\n",
       "                                           (['brand'],\n",
       "                                            OneHotEncoder(handle_unknown='ignore')),\n",
       "                                           (['model'],\n",
       "                                            OneH...\n",
       "                              eval_metric=None, feature_types=None, gamma=None,\n",
       "                              gpu_id=None, grow_policy=None,\n",
       "                              importance_type=None,\n",
       "                              interaction_constraints=None, learning_rate=None,\n",
       "                              max_bin=None, max_cat_threshold=None,\n",
       "                              max_cat_to_onehot=None, max_delta_step=None,\n",
       "                              max_depth=7, max_leaves=None,\n",
       "                              min_child_weight=None, missing=nan,\n",
       "                              monotone_constraints=None, n_estimators=500,\n",
       "                              n_jobs=None, num_parallel_tree=None,\n",
       "                              objective='reg:linear', ...))])"
      ]
     },
     "execution_count": 41,
     "metadata": {},
     "output_type": "execute_result"
    }
   ],
   "source": [
    "%%time\n",
    "pipeline.fit(X, y)"
   ]
  },
  {
   "cell_type": "code",
   "execution_count": 42,
   "id": "de2d4f83",
   "metadata": {},
   "outputs": [
    {
     "name": "stdout",
     "output_type": "stream",
     "text": [
      "LR RMSE train = 1195.022\n",
      "LR MAPE train = 0.0545233149563374\n",
      "LR SCORE = 0.985\n"
     ]
    }
   ],
   "source": [
    "lr_train_pred = pipeline.predict(X)\n",
    "lr_rmse = mean_squared_error(y_true=y, y_pred = lr_train_pred, squared=False)\n",
    "lr_mape = mean_absolute_percentage_error(y_true=y, y_pred=lr_train_pred)\n",
    "\n",
    "print (f'LR RMSE train = {round(lr_rmse, 3)}')\n",
    "print (f'LR MAPE train = {lr_mape}')\n",
    "print (f'LR SCORE = {round(pipeline.score(X, y), 3)}')"
   ]
  },
  {
   "cell_type": "code",
   "execution_count": 43,
   "id": "0d7d5680",
   "metadata": {},
   "outputs": [
    {
     "data": {
      "image/png": "[encoded data removed]",
      "text/plain": [
       "<Figure size 432x288 with 1 Axes>"
      ]
     },
     "metadata": {
      "image/png": {
       "height": 261,
       "width": 397
      }
     },
     "output_type": "display_data"
    }
   ],
   "source": [
    "PredictionErrorDisplay.from_predictions(\n",
    "    y,\n",
    "    lr_train_pred,\n",
    "    kind=\"actual_vs_predicted\",\n",
    "    scatter_kwargs={\"alpha\": 0.5},\n",
    ")\n",
    "plt.show()"
   ]
  },
  {
   "cell_type": "markdown",
   "id": "873bf9c8",
   "metadata": {},
   "source": [
    "# 5. Prediction of `car_test.csv`"
   ]
  },
  {
   "cell_type": "markdown",
   "id": "0d7e16ae",
   "metadata": {},
   "source": [
    "## 5.1. Basic"
   ]
  },
  {
   "cell_type": "code",
   "execution_count": 44,
   "id": "53008686",
   "metadata": {},
   "outputs": [
    {
     "data": {
      "text/html": [
       "<div>\n",
       "<style scoped>\n",
       "    .dataframe tbody tr th:only-of-type {\n",
       "        vertical-align: middle;\n",
       "    }\n",
       "\n",
       "    .dataframe tbody tr th {\n",
       "        vertical-align: top;\n",
       "    }\n",
       "\n",
       "    .dataframe thead th {\n",
       "        text-align: right;\n",
       "    }\n",
       "</style>\n",
       "<table border=\"1\" class=\"dataframe\">\n",
       "  <thead>\n",
       "    <tr style=\"text-align: right;\">\n",
       "      <th></th>\n",
       "      <th>id</th>\n",
       "      <th>brand</th>\n",
       "      <th>model</th>\n",
       "      <th>year</th>\n",
       "      <th>transmission</th>\n",
       "      <th>mileage</th>\n",
       "      <th>fuelType</th>\n",
       "      <th>tax</th>\n",
       "      <th>mpg</th>\n",
       "      <th>engineSize</th>\n",
       "      <th>tax(£)</th>\n",
       "    </tr>\n",
       "  </thead>\n",
       "  <tbody>\n",
       "    <tr>\n",
       "      <th>1395</th>\n",
       "      <td>1395</td>\n",
       "      <td>focus</td>\n",
       "      <td>Focus</td>\n",
       "      <td>2019.0</td>\n",
       "      <td>Manual</td>\n",
       "      <td>9929 km</td>\n",
       "      <td>Petrol</td>\n",
       "      <td>NaN</td>\n",
       "      <td>NaN</td>\n",
       "      <td>1.0</td>\n",
       "      <td>NaN</td>\n",
       "    </tr>\n",
       "    <tr>\n",
       "      <th>2966</th>\n",
       "      <td>2966</td>\n",
       "      <td>vw</td>\n",
       "      <td>Golf</td>\n",
       "      <td>2019.0</td>\n",
       "      <td>Manual</td>\n",
       "      <td>4000 km</td>\n",
       "      <td>Petrol</td>\n",
       "      <td>145.0</td>\n",
       "      <td>45.6</td>\n",
       "      <td>1.5</td>\n",
       "      <td>NaN</td>\n",
       "    </tr>\n",
       "    <tr>\n",
       "      <th>9448</th>\n",
       "      <td>9448</td>\n",
       "      <td>focus</td>\n",
       "      <td>Focus</td>\n",
       "      <td>2019.0</td>\n",
       "      <td>Manual</td>\n",
       "      <td>12892 km</td>\n",
       "      <td>Petrol</td>\n",
       "      <td>NaN</td>\n",
       "      <td>NaN</td>\n",
       "      <td>1.0</td>\n",
       "      <td>NaN</td>\n",
       "    </tr>\n",
       "  </tbody>\n",
       "</table>\n",
       "</div>"
      ],
      "text/plain": [
       "        id  brand   model    year transmission   mileage fuelType    tax  \\\n",
       "1395  1395  focus   Focus  2019.0       Manual   9929 km   Petrol    NaN   \n",
       "2966  2966     vw    Golf  2019.0       Manual   4000 km   Petrol  145.0   \n",
       "9448  9448  focus   Focus  2019.0       Manual  12892 km   Petrol    NaN   \n",
       "\n",
       "       mpg  engineSize  tax(£)  \n",
       "1395   NaN         1.0     NaN  \n",
       "2966  45.6         1.5     NaN  \n",
       "9448   NaN         1.0     NaN  "
      ]
     },
     "execution_count": 44,
     "metadata": {},
     "output_type": "execute_result"
    }
   ],
   "source": [
    "car_test = pd.read_csv('car_test.csv')\n",
    "car_test.sample(3)"
   ]
  },
  {
   "cell_type": "code",
   "execution_count": 25,
   "id": "49b2ca75",
   "metadata": {},
   "outputs": [
    {
     "name": "stdout",
     "output_type": "stream",
     "text": [
      "<class 'pandas.core.frame.DataFrame'>\n",
      "RangeIndex: 9578 entries, 0 to 9577\n",
      "Data columns (total 11 columns):\n",
      " #   Column        Non-Null Count  Dtype  \n",
      "---  ------        --------------  -----  \n",
      " 0   id            9578 non-null   int64  \n",
      " 1   brand         9578 non-null   object \n",
      " 2   model         9578 non-null   object \n",
      " 3   year          9578 non-null   float64\n",
      " 4   transmission  9578 non-null   object \n",
      " 5   mileage       9578 non-null   object \n",
      " 6   fuelType      9578 non-null   object \n",
      " 7   tax           8342 non-null   float64\n",
      " 8   mpg           8745 non-null   float64\n",
      " 9   engineSize    9578 non-null   float64\n",
      " 10  tax(£)        403 non-null    float64\n",
      "dtypes: float64(5), int64(1), object(5)\n",
      "memory usage: 823.2+ KB\n"
     ]
    }
   ],
   "source": [
    "car_test.info()"
   ]
  },
  {
   "cell_type": "markdown",
   "id": "256ad5ef",
   "metadata": {},
   "source": [
    "## 5.2. Values type"
   ]
  },
  {
   "cell_type": "markdown",
   "id": "bd9c1f2c",
   "metadata": {},
   "source": [
    "### `mileage`"
   ]
  },
  {
   "cell_type": "code",
   "execution_count": 45,
   "id": "164e1d1e",
   "metadata": {},
   "outputs": [],
   "source": [
    "# getting rid of 'km' in mileage\n",
    "car_test.mileage = car_test.mileage.str.replace(\" km\", '').astype(int)"
   ]
  },
  {
   "cell_type": "markdown",
   "id": "431c81e8",
   "metadata": {},
   "source": [
    "### `model`"
   ]
  },
  {
   "cell_type": "code",
   "execution_count": 46,
   "id": "259aec43",
   "metadata": {},
   "outputs": [],
   "source": [
    "# getting rid of space in model\n",
    "car_test.model = car_test.model.str.strip()"
   ]
  },
  {
   "cell_type": "markdown",
   "id": "4928882d",
   "metadata": {},
   "source": [
    "**Note:** `car_test` contains a previously unknown Mercedes-Benz `model` - `230`. Let's replace it with another."
   ]
  },
  {
   "cell_type": "code",
   "execution_count": 47,
   "id": "4d47c032",
   "metadata": {},
   "outputs": [],
   "source": [
    "car_test.loc[(car_test.model.str.lower().str.contains('230')),'model'] = '220'"
   ]
  },
  {
   "cell_type": "markdown",
   "id": "378a19ef",
   "metadata": {},
   "source": [
    "### `year`"
   ]
  },
  {
   "cell_type": "code",
   "execution_count": 48,
   "id": "e8b29dfb",
   "metadata": {},
   "outputs": [],
   "source": [
    "car_test.year = car_test.year.astype(int)"
   ]
  },
  {
   "cell_type": "markdown",
   "id": "d68d7111",
   "metadata": {},
   "source": [
    "### `brand`"
   ]
  },
  {
   "cell_type": "markdown",
   "id": "5ed20d43",
   "metadata": {},
   "source": [
    "**Note:** `car_test` contains the error - `Focus` is not `brand`, `Ford` is `brand`."
   ]
  },
  {
   "cell_type": "code",
   "execution_count": 49,
   "id": "c1ae33c5",
   "metadata": {},
   "outputs": [
    {
     "data": {
      "text/plain": [
       "array(['vw', 'audi', 'vauxhall', 'Mercedes-Benz', 'Hyundai', 'skoda',\n",
       "       'ford', 'bmw', 'toyota', 'focus'], dtype=object)"
      ]
     },
     "execution_count": 49,
     "metadata": {},
     "output_type": "execute_result"
    }
   ],
   "source": [
    "car_test.brand.unique()"
   ]
  },
  {
   "cell_type": "code",
   "execution_count": 50,
   "id": "17a79727",
   "metadata": {},
   "outputs": [],
   "source": [
    "car_test.loc[(car_test.brand.str.lower().str.contains('focus')),'brand'] = 'ford'"
   ]
  },
  {
   "cell_type": "markdown",
   "id": "93126cb3",
   "metadata": {},
   "source": [
    "## 5.3. Prediction of `car_test.csv` and submission"
   ]
  },
  {
   "cell_type": "code",
   "execution_count": 55,
   "id": "59f9a903",
   "metadata": {},
   "outputs": [],
   "source": [
    "lr_car_test_pred = pipeline.predict(car_test)"
   ]
  },
  {
   "cell_type": "code",
   "execution_count": 56,
   "id": "c45135b0",
   "metadata": {},
   "outputs": [
    {
     "data": {
      "text/plain": [
       "array([14482.946, 44155.715,  6488.738, ..., 16582.428, 32006.37 ,\n",
       "       13579.083], dtype=float32)"
      ]
     },
     "execution_count": 56,
     "metadata": {},
     "output_type": "execute_result"
    }
   ],
   "source": [
    "lr_car_test_pred"
   ]
  },
  {
   "cell_type": "code",
   "execution_count": 57,
   "id": "79b3a8e2",
   "metadata": {},
   "outputs": [
    {
     "data": {
      "text/html": [
       "<div>\n",
       "<style scoped>\n",
       "    .dataframe tbody tr th:only-of-type {\n",
       "        vertical-align: middle;\n",
       "    }\n",
       "\n",
       "    .dataframe tbody tr th {\n",
       "        vertical-align: top;\n",
       "    }\n",
       "\n",
       "    .dataframe thead th {\n",
       "        text-align: right;\n",
       "    }\n",
       "</style>\n",
       "<table border=\"1\" class=\"dataframe\">\n",
       "  <thead>\n",
       "    <tr style=\"text-align: right;\">\n",
       "      <th></th>\n",
       "      <th>price</th>\n",
       "    </tr>\n",
       "    <tr>\n",
       "      <th>id</th>\n",
       "      <th></th>\n",
       "    </tr>\n",
       "  </thead>\n",
       "  <tbody>\n",
       "    <tr>\n",
       "      <th>0</th>\n",
       "      <td>14482.946289</td>\n",
       "    </tr>\n",
       "    <tr>\n",
       "      <th>1</th>\n",
       "      <td>44155.714844</td>\n",
       "    </tr>\n",
       "    <tr>\n",
       "      <th>2</th>\n",
       "      <td>6488.737793</td>\n",
       "    </tr>\n",
       "    <tr>\n",
       "      <th>3</th>\n",
       "      <td>10628.027344</td>\n",
       "    </tr>\n",
       "    <tr>\n",
       "      <th>4</th>\n",
       "      <td>21193.917969</td>\n",
       "    </tr>\n",
       "    <tr>\n",
       "      <th>...</th>\n",
       "      <td>...</td>\n",
       "    </tr>\n",
       "    <tr>\n",
       "      <th>9573</th>\n",
       "      <td>11855.132812</td>\n",
       "    </tr>\n",
       "    <tr>\n",
       "      <th>9574</th>\n",
       "      <td>10001.049805</td>\n",
       "    </tr>\n",
       "    <tr>\n",
       "      <th>9575</th>\n",
       "      <td>16582.427734</td>\n",
       "    </tr>\n",
       "    <tr>\n",
       "      <th>9576</th>\n",
       "      <td>32006.369141</td>\n",
       "    </tr>\n",
       "    <tr>\n",
       "      <th>9577</th>\n",
       "      <td>13579.083008</td>\n",
       "    </tr>\n",
       "  </tbody>\n",
       "</table>\n",
       "<p>9578 rows × 1 columns</p>\n",
       "</div>"
      ],
      "text/plain": [
       "             price\n",
       "id                \n",
       "0     14482.946289\n",
       "1     44155.714844\n",
       "2      6488.737793\n",
       "3     10628.027344\n",
       "4     21193.917969\n",
       "...            ...\n",
       "9573  11855.132812\n",
       "9574  10001.049805\n",
       "9575  16582.427734\n",
       "9576  32006.369141\n",
       "9577  13579.083008\n",
       "\n",
       "[9578 rows x 1 columns]"
      ]
     },
     "execution_count": 57,
     "metadata": {},
     "output_type": "execute_result"
    }
   ],
   "source": [
    "submission = pd.DataFrame(data = lr_car_test_pred, index = car_test.index, \n",
    "             columns=['price']).reset_index().rename(columns={\"index\": \"id\"}).set_index('id')\n",
    "submission"
   ]
  },
  {
   "cell_type": "code",
   "execution_count": 58,
   "id": "3b139e95",
   "metadata": {},
   "outputs": [],
   "source": [
    "submission.to_csv('submission.csv')"
   ]
  }
 ],
 "metadata": {
  "kernelspec": {
   "display_name": "Python 3 (ipykernel)",
   "language": "python",
   "name": "python3"
  },
  "language_info": {
   "codemirror_mode": {
    "name": "ipython",
    "version": 3
   },
   "file_extension": ".py",
   "mimetype": "text/x-python",
   "name": "python",
   "nbconvert_exporter": "python",
   "pygments_lexer": "ipython3",
   "version": "3.9.12"
  },
  "varInspector": {
   "cols": {
    "lenName": 16,
    "lenType": 16,
    "lenVar": 40
   },
   "kernels_config": {
    "python": {
     "delete_cmd_postfix": "",
     "delete_cmd_prefix": "del ",
     "library": "var_list.py",
     "varRefreshCmd": "print(var_dic_list())"
    },
    "r": {
     "delete_cmd_postfix": ") ",
     "delete_cmd_prefix": "rm(",
     "library": "var_list.r",
     "varRefreshCmd": "cat(var_dic_list()) "
    }
   },
   "types_to_exclude": [
    "module",
    "function",
    "builtin_function_or_method",
    "instance",
    "_Feature"
   ],
   "window_display": false
  }
 },
 "nbformat": 4,
 "nbformat_minor": 5
}
